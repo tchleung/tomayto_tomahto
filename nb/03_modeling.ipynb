{
 "cells": [
  {
   "cell_type": "markdown",
   "metadata": {},
   "source": [
    "# Part 03 - Modeling"
   ]
  },
  {
   "cell_type": "markdown",
   "metadata": {},
   "source": [
    "### 01 - Import library"
   ]
  },
  {
   "cell_type": "code",
   "execution_count": 1,
   "metadata": {},
   "outputs": [],
   "source": [
    "import os\n",
    "import numpy as np\n",
    "import pandas as pd\n",
    "import matplotlib.pyplot as plt\n",
    "%matplotlib inline\n",
    "import seaborn as sns\n",
    "\n",
    "import librosa\n",
    "from sklearn.preprocessing import LabelEncoder\n",
    "from sklearn.model_selection import train_test_split\n",
    "from sklearn.metrics import confusion_matrix\n",
    "\n",
    "import tensorflow as tf\n",
    "from tensorflow.keras.utils import to_categorical\n",
    "from tensorflow.keras.models import Sequential\n",
    "from tensorflow.keras.layers import Dense, Dropout, Conv2D, MaxPooling2D, Flatten"
   ]
  },
  {
   "cell_type": "markdown",
   "metadata": {},
   "source": [
    "### 02 - Unpickle the features"
   ]
  },
  {
   "cell_type": "code",
   "execution_count": 2,
   "metadata": {},
   "outputs": [],
   "source": [
    "df_tr = pd.read_pickle('../pickles/train.pkl')\n",
    "df_ts = pd.read_pickle('../pickles/test.pkl')\n",
    "df_ho = pd.read_pickle('../pickles/hold_out.pkl')"
   ]
  },
  {
   "cell_type": "markdown",
   "metadata": {},
   "source": [
    "### 03 - Transform into tensorflow-friendly format"
   ]
  },
  {
   "cell_type": "code",
   "execution_count": 3,
   "metadata": {},
   "outputs": [
    {
     "name": "stdout",
     "output_type": "stream",
     "text": [
      "['cn' 'tw']\n"
     ]
    }
   ],
   "source": [
    "# use label encoder to convert the language labels to numeric target column\n",
    "encoder = LabelEncoder()\n",
    "encoder.fit(df_tr['lang'])\n",
    "labels = encoder.classes_\n",
    "y_tr = encoder.transform(df_tr['lang'])\n",
    "y_ts = encoder.transform(df_ts['lang'])\n",
    "y_ho = encoder.transform(df_ho['lang'])\n",
    "print(labels)"
   ]
  },
  {
   "cell_type": "code",
   "execution_count": 11,
   "metadata": {},
   "outputs": [],
   "source": [
    "# Convert feature matrix into a keras-friendly format\n",
    "X_tr = np.array(df_tr['features'].tolist())\n",
    "X_tr = X_tr.reshape(X_tr.shape[0],128,256,1)\n",
    "X_ts = np.array(df_ts['features'].tolist())\n",
    "X_ts = X_ts.reshape(X_ts.shape[0],128,256,1)\n",
    "X_ho = np.array(df_ho['features'].tolist())\n",
    "X_ho = X_ho.reshape(X_ho.shape[0],128,256,1)"
   ]
  },
  {
   "cell_type": "code",
   "execution_count": 12,
   "metadata": {},
   "outputs": [
    {
     "name": "stdout",
     "output_type": "stream",
     "text": [
      "(5924, 128, 256, 1)\n",
      "(5924,)\n",
      "(740, 128, 256, 1)\n",
      "(740,)\n",
      "(740, 128, 256, 1)\n",
      "(740,)\n"
     ]
    }
   ],
   "source": [
    "# Check the shape\n",
    "print(X_tr.shape)\n",
    "print(y_tr.shape)\n",
    "print(X_ts.shape)\n",
    "print(y_ts.shape)\n",
    "print(X_ho.shape)\n",
    "print(y_ho.shape)"
   ]
  },
  {
   "cell_type": "markdown",
   "metadata": {},
   "source": [
    "### 04 - CNN Model"
   ]
  },
  {
   "cell_type": "code",
   "execution_count": 121,
   "metadata": {},
   "outputs": [],
   "source": [
    "model = Sequential()\n",
    "model.add(Conv2D(32, (5, 5), activation='relu', input_shape=(128, 256, 1), padding = 'same'))\n",
    "model.add(MaxPooling2D((3, 3)))\n",
    "model.add(Dropout(0.25))\n",
    "model.add(Conv2D(64, (5, 5), activation='relu', padding = 'same'))\n",
    "model.add(MaxPooling2D((3, 3)))\n",
    "model.add(Dropout(0.25))\n",
    "model.add(Conv2D(128, (5, 5), activation='relu', padding = 'same'))\n",
    "model.add(MaxPooling2D((3, 3)))\n",
    "model.add(Dropout(0.25))\n",
    "model.add(Flatten())\n",
    "model.add(Dense(256, activation='relu'))\n",
    "model.add(Dense(2, activation='softmax'))"
   ]
  },
  {
   "cell_type": "code",
   "execution_count": 122,
   "metadata": {},
   "outputs": [
    {
     "name": "stdout",
     "output_type": "stream",
     "text": [
      "Model: \"sequential_27\"\n",
      "_________________________________________________________________\n",
      "Layer (type)                 Output Shape              Param #   \n",
      "=================================================================\n",
      "conv2d_88 (Conv2D)           (None, 128, 256, 32)      832       \n",
      "_________________________________________________________________\n",
      "max_pooling2d_88 (MaxPooling (None, 42, 85, 32)        0         \n",
      "_________________________________________________________________\n",
      "dropout_86 (Dropout)         (None, 42, 85, 32)        0         \n",
      "_________________________________________________________________\n",
      "conv2d_89 (Conv2D)           (None, 42, 85, 64)        51264     \n",
      "_________________________________________________________________\n",
      "max_pooling2d_89 (MaxPooling (None, 14, 28, 64)        0         \n",
      "_________________________________________________________________\n",
      "dropout_87 (Dropout)         (None, 14, 28, 64)        0         \n",
      "_________________________________________________________________\n",
      "conv2d_90 (Conv2D)           (None, 14, 28, 128)       204928    \n",
      "_________________________________________________________________\n",
      "max_pooling2d_90 (MaxPooling (None, 4, 9, 128)         0         \n",
      "_________________________________________________________________\n",
      "dropout_88 (Dropout)         (None, 4, 9, 128)         0         \n",
      "_________________________________________________________________\n",
      "flatten_25 (Flatten)         (None, 4608)              0         \n",
      "_________________________________________________________________\n",
      "dense_50 (Dense)             (None, 256)               1179904   \n",
      "_________________________________________________________________\n",
      "dense_51 (Dense)             (None, 2)                 514       \n",
      "=================================================================\n",
      "Total params: 1,437,442\n",
      "Trainable params: 1,437,442\n",
      "Non-trainable params: 0\n",
      "_________________________________________________________________\n"
     ]
    }
   ],
   "source": [
    "model.summary()"
   ]
  },
  {
   "cell_type": "code",
   "execution_count": 117,
   "metadata": {},
   "outputs": [],
   "source": [
    "tf.keras.losses.SparseCategoricalCrossentropy(name='sparse_categorical_crossentropy')\n",
    "\n",
    "model.compile(optimizer='adam',\n",
    "              loss='sparse_categorical_crossentropy',\n",
    "              metrics=['accuracy'])"
   ]
  },
  {
   "cell_type": "code",
   "execution_count": 118,
   "metadata": {},
   "outputs": [],
   "source": [
    "EPOCHS = 100\n",
    "checkpoint_filepath = '../temp_checkpoint/'\n",
    "model_checkpoint_callback = tf.keras.callbacks.ModelCheckpoint(\n",
    "    filepath=checkpoint_filepath,\n",
    "    save_weights_only=True,\n",
    "    monitor='val_accuracy',\n",
    "    mode='max',\n",
    "    save_best_only=True)"
   ]
  },
  {
   "cell_type": "code",
   "execution_count": 119,
   "metadata": {
    "scrolled": true
   },
   "outputs": [
    {
     "name": "stdout",
     "output_type": "stream",
     "text": [
      "Train on 5924 samples, validate on 740 samples\n",
      "Epoch 1/100\n",
      "5924/5924 [==============================] - 10s 2ms/sample - loss: 17.1650 - accuracy: 0.6913 - val_loss: 0.5751 - val_accuracy: 0.7081\n",
      "Epoch 2/100\n",
      "5924/5924 [==============================] - 10s 2ms/sample - loss: 0.5331 - accuracy: 0.7522 - val_loss: 0.5203 - val_accuracy: 0.7676\n",
      "Epoch 3/100\n",
      "5924/5924 [==============================] - 10s 2ms/sample - loss: 0.4929 - accuracy: 0.7767 - val_loss: 0.4765 - val_accuracy: 0.7946\n",
      "Epoch 4/100\n",
      "5924/5924 [==============================] - 9s 2ms/sample - loss: 0.4759 - accuracy: 0.7723 - val_loss: 0.4558 - val_accuracy: 0.7716\n",
      "Epoch 5/100\n",
      "5924/5924 [==============================] - 10s 2ms/sample - loss: 0.4503 - accuracy: 0.7920 - val_loss: 0.4322 - val_accuracy: 0.7973\n",
      "Epoch 6/100\n",
      "5924/5924 [==============================] - 10s 2ms/sample - loss: 0.4376 - accuracy: 0.7993 - val_loss: 0.4398 - val_accuracy: 0.7986\n",
      "Epoch 7/100\n",
      "5924/5924 [==============================] - 10s 2ms/sample - loss: 0.4223 - accuracy: 0.8064 - val_loss: 0.3946 - val_accuracy: 0.8311\n",
      "Epoch 8/100\n",
      "5924/5924 [==============================] - 9s 2ms/sample - loss: 0.4093 - accuracy: 0.8147 - val_loss: 0.4237 - val_accuracy: 0.8095\n",
      "Epoch 9/100\n",
      "5924/5924 [==============================] - 9s 2ms/sample - loss: 0.3961 - accuracy: 0.8226 - val_loss: 0.3855 - val_accuracy: 0.8176\n",
      "Epoch 10/100\n",
      "5924/5924 [==============================] - 9s 2ms/sample - loss: 0.3864 - accuracy: 0.8270 - val_loss: 0.3868 - val_accuracy: 0.8284\n",
      "Epoch 11/100\n",
      "5924/5924 [==============================] - 9s 2ms/sample - loss: 0.3624 - accuracy: 0.8430 - val_loss: 0.3924 - val_accuracy: 0.8297\n",
      "Epoch 12/100\n",
      "5924/5924 [==============================] - 10s 2ms/sample - loss: 0.3447 - accuracy: 0.8447 - val_loss: 0.3713 - val_accuracy: 0.8338\n",
      "Epoch 13/100\n",
      "5924/5924 [==============================] - 10s 2ms/sample - loss: 0.3246 - accuracy: 0.8540 - val_loss: 0.3820 - val_accuracy: 0.8351\n",
      "Epoch 14/100\n",
      "5924/5924 [==============================] - 9s 2ms/sample - loss: 0.2950 - accuracy: 0.8685 - val_loss: 0.3713 - val_accuracy: 0.8311\n",
      "Epoch 15/100\n",
      "5924/5924 [==============================] - 9s 2ms/sample - loss: 0.2734 - accuracy: 0.8795 - val_loss: 0.3673 - val_accuracy: 0.8338\n",
      "Epoch 16/100\n",
      "5924/5924 [==============================] - 9s 2ms/sample - loss: 0.2674 - accuracy: 0.8854 - val_loss: 0.4031 - val_accuracy: 0.8176\n",
      "Epoch 17/100\n",
      "5924/5924 [==============================] - 10s 2ms/sample - loss: 0.2227 - accuracy: 0.9028 - val_loss: 0.3629 - val_accuracy: 0.8459\n",
      "Epoch 18/100\n",
      "5924/5924 [==============================] - 9s 2ms/sample - loss: 0.1990 - accuracy: 0.9171 - val_loss: 0.3535 - val_accuracy: 0.8351\n",
      "Epoch 19/100\n",
      "5924/5924 [==============================] - 9s 2ms/sample - loss: 0.1868 - accuracy: 0.9232 - val_loss: 0.3782 - val_accuracy: 0.8297\n",
      "Epoch 20/100\n",
      "5924/5924 [==============================] - 9s 2ms/sample - loss: 0.1467 - accuracy: 0.9374 - val_loss: 0.4074 - val_accuracy: 0.8297\n",
      "Epoch 21/100\n",
      "5924/5924 [==============================] - 9s 2ms/sample - loss: 0.1316 - accuracy: 0.9475 - val_loss: 0.4593 - val_accuracy: 0.8378\n",
      "Epoch 22/100\n",
      "5924/5924 [==============================] - 9s 2ms/sample - loss: 0.1156 - accuracy: 0.9539 - val_loss: 0.4762 - val_accuracy: 0.8392\n",
      "Epoch 23/100\n",
      "5924/5924 [==============================] - 9s 2ms/sample - loss: 0.1094 - accuracy: 0.9583 - val_loss: 0.4788 - val_accuracy: 0.8432\n",
      "Epoch 24/100\n",
      "5924/5924 [==============================] - 9s 2ms/sample - loss: 0.1097 - accuracy: 0.9583 - val_loss: 0.5383 - val_accuracy: 0.8284\n",
      "Epoch 25/100\n",
      "5924/5924 [==============================] - 9s 2ms/sample - loss: 0.0774 - accuracy: 0.9711 - val_loss: 0.5847 - val_accuracy: 0.8324\n",
      "Epoch 26/100\n",
      "5924/5924 [==============================] - 9s 2ms/sample - loss: 0.0630 - accuracy: 0.9755 - val_loss: 0.5454 - val_accuracy: 0.8284\n",
      "Epoch 27/100\n",
      "5924/5924 [==============================] - 10s 2ms/sample - loss: 0.0918 - accuracy: 0.9661 - val_loss: 0.5500 - val_accuracy: 0.8514\n",
      "Epoch 28/100\n",
      "5924/5924 [==============================] - 9s 2ms/sample - loss: 0.0567 - accuracy: 0.9794 - val_loss: 0.5744 - val_accuracy: 0.8405\n",
      "Epoch 29/100\n",
      "5924/5924 [==============================] - 9s 2ms/sample - loss: 0.0684 - accuracy: 0.9748 - val_loss: 0.5985 - val_accuracy: 0.8351\n",
      "Epoch 30/100\n",
      "5924/5924 [==============================] - 9s 2ms/sample - loss: 0.0730 - accuracy: 0.9745 - val_loss: 0.7439 - val_accuracy: 0.8324\n",
      "Epoch 31/100\n",
      "5924/5924 [==============================] - 9s 2ms/sample - loss: 0.0533 - accuracy: 0.9828 - val_loss: 0.6985 - val_accuracy: 0.8338\n",
      "Epoch 32/100\n",
      "5924/5924 [==============================] - 9s 2ms/sample - loss: 0.0693 - accuracy: 0.9762 - val_loss: 0.6268 - val_accuracy: 0.8122\n",
      "Epoch 33/100\n",
      "5924/5924 [==============================] - 9s 2ms/sample - loss: 0.0708 - accuracy: 0.9727 - val_loss: 0.8052 - val_accuracy: 0.8135\n",
      "Epoch 34/100\n",
      "5924/5924 [==============================] - 9s 2ms/sample - loss: 0.0563 - accuracy: 0.9797 - val_loss: 0.7760 - val_accuracy: 0.8351\n",
      "Epoch 35/100\n",
      "5924/5924 [==============================] - 9s 2ms/sample - loss: 0.0668 - accuracy: 0.9804 - val_loss: 0.5671 - val_accuracy: 0.8324\n",
      "Epoch 36/100\n",
      "5924/5924 [==============================] - 9s 2ms/sample - loss: 0.0546 - accuracy: 0.9819 - val_loss: 0.6578 - val_accuracy: 0.8297\n",
      "Epoch 37/100\n",
      "5924/5924 [==============================] - 9s 2ms/sample - loss: 0.0408 - accuracy: 0.9845 - val_loss: 0.8773 - val_accuracy: 0.8365\n",
      "Epoch 38/100\n",
      "5924/5924 [==============================] - 9s 2ms/sample - loss: 0.0543 - accuracy: 0.9835 - val_loss: 0.8299 - val_accuracy: 0.8392\n",
      "Epoch 39/100\n",
      "5924/5924 [==============================] - 9s 2ms/sample - loss: 0.0827 - accuracy: 0.9728 - val_loss: 0.7644 - val_accuracy: 0.8297\n",
      "Epoch 40/100\n",
      "5924/5924 [==============================] - 9s 2ms/sample - loss: 0.0486 - accuracy: 0.9831 - val_loss: 0.9625 - val_accuracy: 0.8297\n",
      "Epoch 41/100\n",
      "5924/5924 [==============================] - 9s 2ms/sample - loss: 0.0338 - accuracy: 0.9899 - val_loss: 0.8619 - val_accuracy: 0.8297\n",
      "Epoch 42/100\n",
      "5924/5924 [==============================] - 9s 2ms/sample - loss: 0.0521 - accuracy: 0.9836 - val_loss: 0.5959 - val_accuracy: 0.8473\n",
      "Epoch 43/100\n",
      "5924/5924 [==============================] - 9s 2ms/sample - loss: 0.0659 - accuracy: 0.9791 - val_loss: 0.7478 - val_accuracy: 0.8405\n",
      "Epoch 44/100\n",
      "5924/5924 [==============================] - 9s 2ms/sample - loss: 0.0658 - accuracy: 0.9784 - val_loss: 0.7682 - val_accuracy: 0.8338\n",
      "Epoch 45/100\n",
      "5924/5924 [==============================] - 9s 2ms/sample - loss: 0.0627 - accuracy: 0.9794 - val_loss: 0.8663 - val_accuracy: 0.8257\n",
      "Epoch 46/100\n",
      "5924/5924 [==============================] - 9s 2ms/sample - loss: 0.0409 - accuracy: 0.9885 - val_loss: 0.9079 - val_accuracy: 0.8392\n",
      "Epoch 47/100\n",
      "5924/5924 [==============================] - 9s 2ms/sample - loss: 0.0336 - accuracy: 0.9887 - val_loss: 0.9895 - val_accuracy: 0.8351\n",
      "Epoch 48/100\n",
      "5924/5924 [==============================] - 9s 2ms/sample - loss: 0.0409 - accuracy: 0.9875 - val_loss: 0.9775 - val_accuracy: 0.8392\n",
      "Epoch 49/100\n",
      "5924/5924 [==============================] - 9s 2ms/sample - loss: 0.0282 - accuracy: 0.9926 - val_loss: 0.7462 - val_accuracy: 0.8095\n",
      "Epoch 50/100\n",
      "5924/5924 [==============================] - 9s 2ms/sample - loss: 0.0354 - accuracy: 0.9872 - val_loss: 0.8964 - val_accuracy: 0.8284\n",
      "Epoch 51/100\n",
      "5924/5924 [==============================] - 9s 2ms/sample - loss: 0.0267 - accuracy: 0.9922 - val_loss: 0.8457 - val_accuracy: 0.8405\n",
      "Epoch 52/100\n",
      "5924/5924 [==============================] - 9s 2ms/sample - loss: 0.0644 - accuracy: 0.9836 - val_loss: 0.8889 - val_accuracy: 0.8365\n",
      "Epoch 53/100\n",
      "5924/5924 [==============================] - 9s 2ms/sample - loss: 0.0572 - accuracy: 0.9828 - val_loss: 0.6645 - val_accuracy: 0.8378\n",
      "Epoch 54/100\n",
      "5924/5924 [==============================] - 9s 2ms/sample - loss: 0.0369 - accuracy: 0.9905 - val_loss: 1.0283 - val_accuracy: 0.8270\n",
      "Epoch 55/100\n",
      "5924/5924 [==============================] - 9s 2ms/sample - loss: 0.0748 - accuracy: 0.9789 - val_loss: 0.8495 - val_accuracy: 0.8189\n",
      "Epoch 56/100\n",
      "5924/5924 [==============================] - 9s 2ms/sample - loss: 0.0771 - accuracy: 0.9740 - val_loss: 0.8816 - val_accuracy: 0.8514\n",
      "Epoch 57/100\n",
      "5924/5924 [==============================] - 10s 2ms/sample - loss: 0.0478 - accuracy: 0.9860 - val_loss: 0.9866 - val_accuracy: 0.8608\n",
      "Epoch 58/100\n",
      "5924/5924 [==============================] - 9s 2ms/sample - loss: 0.0464 - accuracy: 0.9880 - val_loss: 0.7614 - val_accuracy: 0.8311\n",
      "Epoch 59/100\n",
      "5924/5924 [==============================] - 9s 2ms/sample - loss: 0.0455 - accuracy: 0.9865 - val_loss: 0.9052 - val_accuracy: 0.8446\n",
      "Epoch 60/100\n",
      "5924/5924 [==============================] - 9s 2ms/sample - loss: 0.0364 - accuracy: 0.9899 - val_loss: 0.6387 - val_accuracy: 0.8432\n",
      "Epoch 61/100\n",
      "5924/5924 [==============================] - 9s 2ms/sample - loss: 0.0429 - accuracy: 0.9889 - val_loss: 0.8547 - val_accuracy: 0.8446\n",
      "Epoch 62/100\n",
      "5924/5924 [==============================] - 9s 2ms/sample - loss: 0.0293 - accuracy: 0.9921 - val_loss: 0.8781 - val_accuracy: 0.8486\n",
      "Epoch 63/100\n",
      "5924/5924 [==============================] - 9s 2ms/sample - loss: 0.0309 - accuracy: 0.9924 - val_loss: 0.9802 - val_accuracy: 0.8459\n",
      "Epoch 64/100\n",
      "5924/5924 [==============================] - 9s 2ms/sample - loss: 0.0244 - accuracy: 0.9924 - val_loss: 1.1092 - val_accuracy: 0.8311\n",
      "Epoch 65/100\n",
      "5924/5924 [==============================] - 9s 2ms/sample - loss: 0.0501 - accuracy: 0.9860 - val_loss: 0.7350 - val_accuracy: 0.8446\n",
      "Epoch 66/100\n",
      "5924/5924 [==============================] - 9s 2ms/sample - loss: 0.0514 - accuracy: 0.9867 - val_loss: 0.5855 - val_accuracy: 0.8365\n",
      "Epoch 67/100\n",
      "5924/5924 [==============================] - 9s 2ms/sample - loss: 0.0370 - accuracy: 0.9865 - val_loss: 0.7668 - val_accuracy: 0.8324\n",
      "Epoch 68/100\n",
      "5924/5924 [==============================] - 9s 2ms/sample - loss: 0.0228 - accuracy: 0.9922 - val_loss: 0.9056 - val_accuracy: 0.8446\n",
      "Epoch 69/100\n",
      "5924/5924 [==============================] - 9s 2ms/sample - loss: 0.0285 - accuracy: 0.9916 - val_loss: 0.6623 - val_accuracy: 0.8473\n",
      "Epoch 70/100\n",
      "5924/5924 [==============================] - 9s 2ms/sample - loss: 0.0544 - accuracy: 0.9830 - val_loss: 0.9222 - val_accuracy: 0.8392\n",
      "Epoch 71/100\n",
      "5924/5924 [==============================] - 9s 2ms/sample - loss: 0.0391 - accuracy: 0.9890 - val_loss: 0.7325 - val_accuracy: 0.8216\n",
      "Epoch 72/100\n",
      "5924/5924 [==============================] - 9s 2ms/sample - loss: 0.0995 - accuracy: 0.9777 - val_loss: 0.9582 - val_accuracy: 0.8243\n",
      "Epoch 73/100\n",
      "5924/5924 [==============================] - 9s 2ms/sample - loss: 0.0540 - accuracy: 0.9868 - val_loss: 0.9626 - val_accuracy: 0.8284\n",
      "Epoch 74/100\n",
      "5924/5924 [==============================] - 9s 2ms/sample - loss: 0.0324 - accuracy: 0.9914 - val_loss: 1.0556 - val_accuracy: 0.8365\n",
      "Epoch 75/100\n",
      "5924/5924 [==============================] - 9s 2ms/sample - loss: 0.0290 - accuracy: 0.9926 - val_loss: 1.0103 - val_accuracy: 0.8541\n",
      "Epoch 76/100\n",
      "5924/5924 [==============================] - 9s 2ms/sample - loss: 0.0422 - accuracy: 0.9911 - val_loss: 0.9966 - val_accuracy: 0.8392\n",
      "Epoch 77/100\n",
      "5924/5924 [==============================] - 9s 2ms/sample - loss: 0.0614 - accuracy: 0.9848 - val_loss: 0.6411 - val_accuracy: 0.8405\n",
      "Epoch 78/100\n",
      "5924/5924 [==============================] - 9s 2ms/sample - loss: 0.0344 - accuracy: 0.9926 - val_loss: 1.0182 - val_accuracy: 0.8243\n",
      "Epoch 79/100\n",
      "5924/5924 [==============================] - 9s 2ms/sample - loss: 0.0236 - accuracy: 0.9936 - val_loss: 0.8236 - val_accuracy: 0.8392\n",
      "Epoch 80/100\n",
      "5924/5924 [==============================] - 10s 2ms/sample - loss: 0.0117 - accuracy: 0.9968 - val_loss: 1.1126 - val_accuracy: 0.8622\n",
      "Epoch 81/100\n",
      "5924/5924 [==============================] - 9s 2ms/sample - loss: 0.0121 - accuracy: 0.9958 - val_loss: 1.1725 - val_accuracy: 0.8419\n",
      "Epoch 82/100\n",
      "5924/5924 [==============================] - 9s 2ms/sample - loss: 0.0223 - accuracy: 0.9949 - val_loss: 1.0776 - val_accuracy: 0.8459\n",
      "Epoch 83/100\n",
      "5924/5924 [==============================] - 9s 2ms/sample - loss: 0.0431 - accuracy: 0.9897 - val_loss: 0.8950 - val_accuracy: 0.8459\n",
      "Epoch 84/100\n",
      "5924/5924 [==============================] - 9s 2ms/sample - loss: 0.0149 - accuracy: 0.9951 - val_loss: 0.9089 - val_accuracy: 0.8486\n",
      "Epoch 85/100\n",
      "5924/5924 [==============================] - 9s 2ms/sample - loss: 0.0362 - accuracy: 0.9905 - val_loss: 1.1795 - val_accuracy: 0.8473\n",
      "Epoch 86/100\n",
      "5924/5924 [==============================] - 9s 2ms/sample - loss: 0.0598 - accuracy: 0.9865 - val_loss: 0.9439 - val_accuracy: 0.8514\n",
      "Epoch 87/100\n",
      "5924/5924 [==============================] - 9s 2ms/sample - loss: 0.0791 - accuracy: 0.9836 - val_loss: 1.5023 - val_accuracy: 0.8284\n",
      "Epoch 88/100\n",
      "5924/5924 [==============================] - 9s 2ms/sample - loss: 0.0316 - accuracy: 0.9926 - val_loss: 0.7662 - val_accuracy: 0.8473\n",
      "Epoch 89/100\n",
      "5924/5924 [==============================] - 9s 1ms/sample - loss: 0.0136 - accuracy: 0.9954 - val_loss: 1.2603 - val_accuracy: 0.8473\n",
      "Epoch 90/100\n",
      "5924/5924 [==============================] - 9s 1ms/sample - loss: 0.0716 - accuracy: 0.9811 - val_loss: 0.9758 - val_accuracy: 0.8257\n",
      "Epoch 91/100\n",
      "5924/5924 [==============================] - 9s 1ms/sample - loss: 0.0511 - accuracy: 0.9853 - val_loss: 1.0103 - val_accuracy: 0.8432\n",
      "Epoch 92/100\n",
      "5924/5924 [==============================] - 9s 1ms/sample - loss: 0.0231 - accuracy: 0.9929 - val_loss: 0.9812 - val_accuracy: 0.8432\n",
      "Epoch 93/100\n",
      "5924/5924 [==============================] - 9s 1ms/sample - loss: 0.0179 - accuracy: 0.9949 - val_loss: 1.4111 - val_accuracy: 0.8514\n",
      "Epoch 94/100\n",
      "5924/5924 [==============================] - 9s 1ms/sample - loss: 0.0198 - accuracy: 0.9943 - val_loss: 1.2040 - val_accuracy: 0.8541\n",
      "Epoch 95/100\n",
      "5924/5924 [==============================] - 9s 2ms/sample - loss: 0.0471 - accuracy: 0.9894 - val_loss: 1.3433 - val_accuracy: 0.8311\n",
      "Epoch 96/100\n",
      "5924/5924 [==============================] - 9s 2ms/sample - loss: 0.0479 - accuracy: 0.9884 - val_loss: 1.0100 - val_accuracy: 0.8581\n",
      "Epoch 97/100\n",
      "5924/5924 [==============================] - 9s 2ms/sample - loss: 0.0445 - accuracy: 0.9909 - val_loss: 1.4120 - val_accuracy: 0.8459\n",
      "Epoch 98/100\n",
      "5924/5924 [==============================] - 9s 1ms/sample - loss: 0.0456 - accuracy: 0.9902 - val_loss: 1.3299 - val_accuracy: 0.8419\n",
      "Epoch 99/100\n",
      "5924/5924 [==============================] - 9s 1ms/sample - loss: 0.0308 - accuracy: 0.9922 - val_loss: 1.0514 - val_accuracy: 0.8514\n",
      "Epoch 100/100\n",
      "5924/5924 [==============================] - 9s 1ms/sample - loss: 0.0393 - accuracy: 0.9909 - val_loss: 0.8958 - val_accuracy: 0.8500\n"
     ]
    }
   ],
   "source": [
    "history = model.fit(X_tr, y_tr, epochs=EPOCHS, validation_data=(X_ts, y_ts), callbacks=[model_checkpoint_callback])"
   ]
  },
  {
   "cell_type": "code",
   "execution_count": 120,
   "metadata": {},
   "outputs": [
    {
     "name": "stdout",
     "output_type": "stream",
     "text": [
      "740/740 [==============================] - 0s 451us/sample - loss: 1.0914 - accuracy: 0.8459\n"
     ]
    }
   ],
   "source": [
    "checkpoint_filepath = '../temp_checkpoint/'\n",
    "model.load_weights(checkpoint_filepath)\n",
    "val_loss, val_acc = model.evaluate(X_ho, y_ho, verbose=1)"
   ]
  },
  {
   "cell_type": "code",
   "execution_count": 91,
   "metadata": {},
   "outputs": [
    {
     "name": "stdout",
     "output_type": "stream",
     "text": [
      "WARNING:tensorflow:From /home/ubuntu/anaconda3/envs/tensorflow2_p36/lib/python3.6/site-packages/tensorflow_core/python/ops/resource_variable_ops.py:1786: calling BaseResourceVariable.__init__ (from tensorflow.python.ops.resource_variable_ops) with constraint is deprecated and will be removed in a future version.\n",
      "Instructions for updating:\n",
      "If using Keras pass *_constraint arguments to layers.\n",
      "INFO:tensorflow:Assets written to: ../saved_model/20200604/assets\n"
     ]
    }
   ],
   "source": [
    "# model.save('../saved_model/20200604/')"
   ]
  },
  {
   "cell_type": "markdown",
   "metadata": {},
   "source": [
    "### 05 - Predict with personal recording"
   ]
  },
  {
   "cell_type": "code",
   "execution_count": 4,
   "metadata": {},
   "outputs": [],
   "source": [
    "new_model = tf.keras.models.load_model('../saved_model/20200604')"
   ]
  },
  {
   "cell_type": "code",
   "execution_count": 27,
   "metadata": {},
   "outputs": [
    {
     "name": "stdout",
     "output_type": "stream",
     "text": [
      "Model: \"sequential_9\"\n",
      "_________________________________________________________________\n",
      "Layer (type)                 Output Shape              Param #   \n",
      "=================================================================\n",
      "conv2d_19 (Conv2D)           (None, 128, 256, 32)      832       \n",
      "_________________________________________________________________\n",
      "max_pooling2d_19 (MaxPooling (None, 42, 85, 32)        0         \n",
      "_________________________________________________________________\n",
      "dropout_3 (Dropout)          (None, 42, 85, 32)        0         \n",
      "_________________________________________________________________\n",
      "conv2d_20 (Conv2D)           (None, 42, 85, 64)        51264     \n",
      "_________________________________________________________________\n",
      "max_pooling2d_20 (MaxPooling (None, 14, 28, 64)        0         \n",
      "_________________________________________________________________\n",
      "dropout_4 (Dropout)          (None, 14, 28, 64)        0         \n",
      "_________________________________________________________________\n",
      "conv2d_21 (Conv2D)           (None, 14, 28, 128)       204928    \n",
      "_________________________________________________________________\n",
      "max_pooling2d_21 (MaxPooling (None, 4, 9, 128)         0         \n",
      "_________________________________________________________________\n",
      "dropout_5 (Dropout)          (None, 4, 9, 128)         0         \n",
      "_________________________________________________________________\n",
      "flatten_9 (Flatten)          (None, 4608)              0         \n",
      "_________________________________________________________________\n",
      "dense_18 (Dense)             (None, 256)               1179904   \n",
      "_________________________________________________________________\n",
      "dense_19 (Dense)             (None, 2)                 514       \n",
      "=================================================================\n",
      "Total params: 1,437,442\n",
      "Trainable params: 1,437,442\n",
      "Non-trainable params: 0\n",
      "_________________________________________________________________\n"
     ]
    }
   ],
   "source": [
    "new_model.summary()"
   ]
  },
  {
   "cell_type": "code",
   "execution_count": 5,
   "metadata": {},
   "outputs": [],
   "source": [
    "# same function from preprocessing notebook\n",
    "def wav_to_img(path):\n",
    "    audio, sr = librosa.load(path,duration=2.97)\n",
    "    # parameters for calculating spectrogram in mel scale\n",
    "    fmax = 10000 # maximum frequency considered\n",
    "    fft_window_points = 512\n",
    "    fft_window_dur = fft_window_points * 1.0 / sr\n",
    "    hop_size = int(fft_window_points/ 2) # 50% overlap between consecutive frames\n",
    "    n_mels = 128\n",
    "    spec = librosa.feature.melspectrogram(audio, sr=sr, n_mels=n_mels, n_fft=fft_window_points, hop_length=hop_size, fmax=fmax)\n",
    "    spec_gram = librosa.power_to_db(spec, np.max)\n",
    "    try:\n",
    "        return librosa.util.pad_center(spec_gram, size = 256, axis = 1)\n",
    "    except:\n",
    "        return spec_gram"
   ]
  },
  {
   "cell_type": "markdown",
   "metadata": {},
   "source": [
    "Test case 1 (Non-native speak Male Recording)"
   ]
  },
  {
   "cell_type": "code",
   "execution_count": 9,
   "metadata": {},
   "outputs": [],
   "source": [
    "# separate the test cases\n",
    "test_cases1 = []\n",
    "file_names1 = os.listdir('../test_audio/')\n",
    "index_nums1 = [3,4,5,6,8]\n",
    "output1 = [file_names1[val] for val in index_nums1]\n",
    "for f in output1:\n",
    "    path = os.path.join('../test_audio/',f)\n",
    "    result = wav_to_img(path)\n",
    "    test_cases1.append(result)\n",
    "test_arr1 = np.array(test_cases1)\n",
    "test_arr1 = test_arr1.reshape(test_arr1.shape[0],128,256,1)"
   ]
  },
  {
   "cell_type": "code",
   "execution_count": 19,
   "metadata": {},
   "outputs": [
    {
     "data": {
      "text/plain": [
       "array(['cn', 'cn', 'tw', 'cn', 'cn'], dtype=object)"
      ]
     },
     "execution_count": 19,
     "metadata": {},
     "output_type": "execute_result"
    }
   ],
   "source": [
    "prediction1 = model.predict(test_arr1)\n",
    "pred_val = []\n",
    "for i in prediction1:\n",
    "    pred = np.argmax(i)\n",
    "    pred_val.append(pred)\n",
    "encoder.inverse_transform(pred_val)"
   ]
  },
  {
   "cell_type": "markdown",
   "metadata": {},
   "source": [
    "Test case 2 (Taiwanese Female Recording)"
   ]
  },
  {
   "cell_type": "code",
   "execution_count": 7,
   "metadata": {},
   "outputs": [],
   "source": [
    "# separate the test cases\n",
    "test_cases2 = []\n",
    "file_names2 = os.listdir('../test_audio/')\n",
    "index_nums2 = [0,1,2,7,9]\n",
    "output2 = [file_names2[val] for val in index_nums2]\n",
    "for f in output2:\n",
    "    path = os.path.join('../test_audio/',f)\n",
    "    result = wav_to_img(path)\n",
    "    test_cases2.append(result)\n",
    "test_arr2 = np.array(test_cases2)\n",
    "test_arr2 = test_arr2.reshape(test_arr2.shape[0],128,256,1)"
   ]
  },
  {
   "cell_type": "code",
   "execution_count": 20,
   "metadata": {},
   "outputs": [
    {
     "data": {
      "text/plain": [
       "array(['cn', 'tw', 'cn', 'cn', 'tw'], dtype=object)"
      ]
     },
     "execution_count": 20,
     "metadata": {},
     "output_type": "execute_result"
    }
   ],
   "source": [
    "prediction2 = model.predict(test_arr2)\n",
    "pred_val = []\n",
    "for i in prediction2:\n",
    "    pred = np.argmax(i)\n",
    "    pred_val.append(pred)\n",
    "encoder.inverse_transform(pred_val)"
   ]
  }
 ],
 "metadata": {
  "kernelspec": {
   "display_name": "Environment (conda_tensorflow2_p36)",
   "language": "python",
   "name": "conda_tensorflow2_p36"
  },
  "language_info": {
   "codemirror_mode": {
    "name": "ipython",
    "version": 3
   },
   "file_extension": ".py",
   "mimetype": "text/x-python",
   "name": "python",
   "nbconvert_exporter": "python",
   "pygments_lexer": "ipython3",
   "version": "3.6.10"
  }
 },
 "nbformat": 4,
 "nbformat_minor": 4
}
