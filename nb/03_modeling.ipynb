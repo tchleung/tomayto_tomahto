{
 "cells": [
  {
   "cell_type": "markdown",
   "metadata": {},
   "source": [
    "# Part 03 - Modeling"
   ]
  },
  {
   "cell_type": "markdown",
   "metadata": {},
   "source": [
    "### 01 - Import library"
   ]
  },
  {
   "cell_type": "code",
   "execution_count": 21,
   "metadata": {},
   "outputs": [
    {
     "name": "stdout",
     "output_type": "stream",
     "text": [
      "The tensorboard extension is already loaded. To reload it, use:\n",
      "  %reload_ext tensorboard\n"
     ]
    }
   ],
   "source": [
    "import os\n",
    "from datetime import datetime\n",
    "\n",
    "import numpy as np\n",
    "import pandas as pd\n",
    "import matplotlib.pyplot as plt\n",
    "%matplotlib inline\n",
    "import seaborn as sns\n",
    "\n",
    "import librosa\n",
    "from sklearn.preprocessing import LabelEncoder\n",
    "from sklearn.metrics import confusion_matrix\n",
    "\n",
    "import tensorflow as tf\n",
    "from tensorflow.keras.utils import to_categorical\n",
    "from tensorflow.keras.models import Sequential\n",
    "from tensorflow.keras.layers import Dense, Dropout, Conv2D, MaxPooling2D, Flatten\n",
    "%load_ext tensorboard\n",
    "!rm -rf ./logs/ # remove previous tensorboard logs"
   ]
  },
  {
   "cell_type": "markdown",
   "metadata": {},
   "source": [
    "### 02 - Unpickle the features"
   ]
  },
  {
   "cell_type": "code",
   "execution_count": 22,
   "metadata": {},
   "outputs": [],
   "source": [
    "df_tr = pd.read_pickle('../pickles/train.pkl')\n",
    "df_ts = pd.read_pickle('../pickles/test.pkl')\n",
    "df_ho = pd.read_pickle('../pickles/hold_out.pkl')"
   ]
  },
  {
   "cell_type": "markdown",
   "metadata": {},
   "source": [
    "### 03 - Transform into tensorflow-friendly format"
   ]
  },
  {
   "cell_type": "code",
   "execution_count": 23,
   "metadata": {},
   "outputs": [
    {
     "name": "stdout",
     "output_type": "stream",
     "text": [
      "['cn' 'tw']\n"
     ]
    }
   ],
   "source": [
    "# use label encoder to convert the language labels to numeric target column\n",
    "encoder = LabelEncoder()\n",
    "encoder.fit(df_tr['lang'])\n",
    "labels = encoder.classes_\n",
    "y_tr = encoder.transform(df_tr['lang'])\n",
    "y_ts = encoder.transform(df_ts['lang'])\n",
    "y_ho = encoder.transform(df_ho['lang'])\n",
    "print(labels)"
   ]
  },
  {
   "cell_type": "code",
   "execution_count": 24,
   "metadata": {},
   "outputs": [],
   "source": [
    "# Convert feature matrix into a keras-friendly format\n",
    "X_tr = np.array(df_tr['features'].tolist())\n",
    "X_tr = X_tr.reshape(X_tr.shape[0],128,256,1)\n",
    "X_ts = np.array(df_ts['features'].tolist())\n",
    "X_ts = X_ts.reshape(X_ts.shape[0],128,256,1)\n",
    "X_ho = np.array(df_ho['features'].tolist())\n",
    "X_ho = X_ho.reshape(X_ho.shape[0],128,256,1)"
   ]
  },
  {
   "cell_type": "code",
   "execution_count": 25,
   "metadata": {},
   "outputs": [
    {
     "name": "stdout",
     "output_type": "stream",
     "text": [
      "(5924, 128, 256, 1)\n",
      "(5924,)\n",
      "(740, 128, 256, 1)\n",
      "(740,)\n",
      "(740, 128, 256, 1)\n",
      "(740,)\n"
     ]
    }
   ],
   "source": [
    "# Check the shape\n",
    "print(X_tr.shape)\n",
    "print(y_tr.shape)\n",
    "print(X_ts.shape)\n",
    "print(y_ts.shape)\n",
    "print(X_ho.shape)\n",
    "print(y_ho.shape)"
   ]
  },
  {
   "cell_type": "markdown",
   "metadata": {},
   "source": [
    "### 04 - CNN Model"
   ]
  },
  {
   "cell_type": "markdown",
   "metadata": {},
   "source": [
    "start with the base model"
   ]
  },
  {
   "cell_type": "code",
   "execution_count": 26,
   "metadata": {},
   "outputs": [],
   "source": [
    "# Base model\n",
    "model = Sequential()\n",
    "model.add(Conv2D(32, (5, 5), activation='relu', input_shape=(128, 256, 1), padding = 'same'))\n",
    "model.add(MaxPooling2D((3, 3)))\n",
    "model.add(Conv2D(64, (5, 5), activation='relu', padding = 'same'))\n",
    "model.add(MaxPooling2D((3, 3)))\n",
    "model.add(Conv2D(128, (5, 5), activation='relu', padding = 'same'))\n",
    "model.add(MaxPooling2D((3, 3)))\n",
    "model.add(Flatten())\n",
    "model.add(Dense(256, activation='relu'))\n",
    "model.add(Dense(2, activation='softmax'))"
   ]
  },
  {
   "cell_type": "code",
   "execution_count": 27,
   "metadata": {},
   "outputs": [],
   "source": [
    "tf.keras.losses.SparseCategoricalCrossentropy(name='sparse_categorical_crossentropy')\n",
    "\n",
    "model.compile(optimizer='adam',\n",
    "              loss='sparse_categorical_crossentropy',\n",
    "              metrics=['accuracy'])"
   ]
  },
  {
   "cell_type": "code",
   "execution_count": 29,
   "metadata": {
    "scrolled": true
   },
   "outputs": [
    {
     "name": "stdout",
     "output_type": "stream",
     "text": [
      "Train on 5924 samples, validate on 740 samples\n",
      "Epoch 1/100\n",
      "5924/5924 [==============================] - 5s 791us/sample - loss: 0.4194 - accuracy: 0.8027 - val_loss: 0.4205 - val_accuracy: 0.8230\n",
      "Epoch 2/100\n",
      "5924/5924 [==============================] - 5s 794us/sample - loss: 0.3889 - accuracy: 0.8217 - val_loss: 0.3898 - val_accuracy: 0.8135\n",
      "Epoch 3/100\n",
      "5924/5924 [==============================] - 5s 783us/sample - loss: 0.3655 - accuracy: 0.8356 - val_loss: 0.4203 - val_accuracy: 0.8189\n",
      "Epoch 4/100\n",
      "5924/5924 [==============================] - 5s 783us/sample - loss: 0.3613 - accuracy: 0.8439 - val_loss: 0.3602 - val_accuracy: 0.8365\n",
      "Epoch 5/100\n",
      "5924/5924 [==============================] - 5s 783us/sample - loss: 0.3287 - accuracy: 0.8536 - val_loss: 0.3674 - val_accuracy: 0.8297\n",
      "Epoch 6/100\n",
      "5924/5924 [==============================] - 5s 782us/sample - loss: 0.3151 - accuracy: 0.8607 - val_loss: 0.3444 - val_accuracy: 0.8473\n",
      "Epoch 7/100\n",
      "5924/5924 [==============================] - 5s 769us/sample - loss: 0.3197 - accuracy: 0.8596 - val_loss: 0.3633 - val_accuracy: 0.8324\n",
      "Epoch 8/100\n",
      "5924/5924 [==============================] - 5s 785us/sample - loss: 0.2827 - accuracy: 0.8781 - val_loss: 0.3889 - val_accuracy: 0.8176\n",
      "Epoch 9/100\n",
      "5924/5924 [==============================] - 5s 770us/sample - loss: 0.2773 - accuracy: 0.8780 - val_loss: 0.3486 - val_accuracy: 0.8473\n",
      "Epoch 10/100\n",
      "5924/5924 [==============================] - 5s 780us/sample - loss: 0.2490 - accuracy: 0.8950 - val_loss: 0.3820 - val_accuracy: 0.8392\n",
      "Epoch 11/100\n",
      "5924/5924 [==============================] - 5s 780us/sample - loss: 0.2326 - accuracy: 0.9009 - val_loss: 0.4794 - val_accuracy: 0.8149\n",
      "Epoch 12/100\n",
      "5924/5924 [==============================] - 5s 791us/sample - loss: 0.2118 - accuracy: 0.9132 - val_loss: 0.3958 - val_accuracy: 0.8338\n",
      "Epoch 13/100\n",
      "5924/5924 [==============================] - 5s 793us/sample - loss: 0.1870 - accuracy: 0.9202 - val_loss: 0.4538 - val_accuracy: 0.8324\n",
      "Epoch 14/100\n",
      "5924/5924 [==============================] - 5s 770us/sample - loss: 0.1990 - accuracy: 0.9163 - val_loss: 0.4544 - val_accuracy: 0.8419\n",
      "Epoch 15/100\n",
      "5924/5924 [==============================] - 5s 784us/sample - loss: 0.1545 - accuracy: 0.9362 - val_loss: 0.4536 - val_accuracy: 0.8541\n",
      "Epoch 16/100\n",
      "5924/5924 [==============================] - 5s 786us/sample - loss: 0.1176 - accuracy: 0.9539 - val_loss: 0.5155 - val_accuracy: 0.8405\n",
      "Epoch 17/100\n",
      "5924/5924 [==============================] - 5s 771us/sample - loss: 0.1513 - accuracy: 0.9365 - val_loss: 0.4679 - val_accuracy: 0.8405\n",
      "Epoch 18/100\n",
      "5924/5924 [==============================] - 5s 785us/sample - loss: 0.1121 - accuracy: 0.9578 - val_loss: 0.6682 - val_accuracy: 0.8351\n",
      "Epoch 19/100\n",
      "5924/5924 [==============================] - 5s 770us/sample - loss: 0.1864 - accuracy: 0.9244 - val_loss: 0.5092 - val_accuracy: 0.8257\n",
      "Epoch 20/100\n",
      "5924/5924 [==============================] - 5s 784us/sample - loss: 0.0927 - accuracy: 0.9637 - val_loss: 0.6811 - val_accuracy: 0.8392\n",
      "Epoch 21/100\n",
      "5924/5924 [==============================] - 5s 785us/sample - loss: 0.0848 - accuracy: 0.9654 - val_loss: 0.5960 - val_accuracy: 0.8419\n",
      "Epoch 22/100\n",
      "5924/5924 [==============================] - 5s 786us/sample - loss: 0.0544 - accuracy: 0.9786 - val_loss: 0.6627 - val_accuracy: 0.8392\n",
      "Epoch 23/100\n",
      "5924/5924 [==============================] - 5s 772us/sample - loss: 0.0648 - accuracy: 0.9774 - val_loss: 0.6626 - val_accuracy: 0.8149\n",
      "Epoch 24/100\n",
      "5924/5924 [==============================] - 5s 773us/sample - loss: 0.0733 - accuracy: 0.9700 - val_loss: 0.5860 - val_accuracy: 0.8419\n",
      "Epoch 25/100\n",
      "5924/5924 [==============================] - 5s 775us/sample - loss: 0.0574 - accuracy: 0.9781 - val_loss: 0.7520 - val_accuracy: 0.8311\n",
      "Epoch 26/100\n",
      "5924/5924 [==============================] - 5s 786us/sample - loss: 0.0468 - accuracy: 0.9821 - val_loss: 0.8316 - val_accuracy: 0.8243\n",
      "Epoch 27/100\n",
      "5924/5924 [==============================] - 5s 786us/sample - loss: 0.0433 - accuracy: 0.9845 - val_loss: 0.8750 - val_accuracy: 0.8581\n",
      "Epoch 28/100\n",
      "5924/5924 [==============================] - 5s 788us/sample - loss: 0.0327 - accuracy: 0.9870 - val_loss: 0.8177 - val_accuracy: 0.8486\n",
      "Epoch 29/100\n",
      "5924/5924 [==============================] - 5s 773us/sample - loss: 0.0615 - accuracy: 0.9774 - val_loss: 0.9791 - val_accuracy: 0.8311\n",
      "Epoch 30/100\n",
      "5924/5924 [==============================] - 5s 788us/sample - loss: 0.0325 - accuracy: 0.9889 - val_loss: 0.9703 - val_accuracy: 0.8527\n",
      "Epoch 31/100\n",
      "5924/5924 [==============================] - 5s 787us/sample - loss: 0.0165 - accuracy: 0.9946 - val_loss: 0.9440 - val_accuracy: 0.8459\n",
      "Epoch 32/100\n",
      "5924/5924 [==============================] - 5s 775us/sample - loss: 0.0735 - accuracy: 0.9755 - val_loss: 0.7456 - val_accuracy: 0.8365\n",
      "Epoch 33/100\n",
      "5924/5924 [==============================] - 5s 775us/sample - loss: 0.0349 - accuracy: 0.9868 - val_loss: 1.1369 - val_accuracy: 0.8392\n",
      "Epoch 34/100\n",
      "5924/5924 [==============================] - 5s 775us/sample - loss: 0.0541 - accuracy: 0.9819 - val_loss: 0.8571 - val_accuracy: 0.8311\n",
      "Epoch 35/100\n",
      "5924/5924 [==============================] - 5s 776us/sample - loss: 0.0150 - accuracy: 0.9946 - val_loss: 0.8488 - val_accuracy: 0.8500\n",
      "Epoch 36/100\n",
      "5924/5924 [==============================] - 5s 792us/sample - loss: 0.0016 - accuracy: 1.0000 - val_loss: 1.0546 - val_accuracy: 0.8568\n",
      "Epoch 37/100\n",
      "5924/5924 [==============================] - 5s 778us/sample - loss: 2.3343e-04 - accuracy: 1.0000 - val_loss: 1.1080 - val_accuracy: 0.8459\n",
      "Epoch 38/100\n",
      "5924/5924 [==============================] - 5s 778us/sample - loss: 1.1525e-04 - accuracy: 1.0000 - val_loss: 1.1512 - val_accuracy: 0.8486\n",
      "Epoch 39/100\n",
      "5924/5924 [==============================] - 5s 778us/sample - loss: 8.4559e-05 - accuracy: 1.0000 - val_loss: 1.1855 - val_accuracy: 0.8500\n",
      "Epoch 40/100\n",
      "5924/5924 [==============================] - 5s 778us/sample - loss: 6.5980e-05 - accuracy: 1.0000 - val_loss: 1.2093 - val_accuracy: 0.8514\n",
      "Epoch 41/100\n",
      "5924/5924 [==============================] - 5s 778us/sample - loss: 5.3263e-05 - accuracy: 1.0000 - val_loss: 1.2311 - val_accuracy: 0.8527\n",
      "Epoch 42/100\n",
      "5924/5924 [==============================] - 5s 778us/sample - loss: 4.4091e-05 - accuracy: 1.0000 - val_loss: 1.2552 - val_accuracy: 0.8527\n",
      "Epoch 43/100\n",
      "5924/5924 [==============================] - 5s 779us/sample - loss: 3.7342e-05 - accuracy: 1.0000 - val_loss: 1.2719 - val_accuracy: 0.8514\n",
      "Epoch 44/100\n",
      "5924/5924 [==============================] - 5s 779us/sample - loss: 3.1838e-05 - accuracy: 1.0000 - val_loss: 1.2856 - val_accuracy: 0.8541\n",
      "Epoch 45/100\n",
      "5924/5924 [==============================] - 5s 779us/sample - loss: 2.7480e-05 - accuracy: 1.0000 - val_loss: 1.3036 - val_accuracy: 0.8554\n",
      "Epoch 46/100\n",
      "5924/5924 [==============================] - 5s 780us/sample - loss: 2.3917e-05 - accuracy: 1.0000 - val_loss: 1.3161 - val_accuracy: 0.8554\n",
      "Epoch 47/100\n",
      "5924/5924 [==============================] - 5s 781us/sample - loss: 2.1007e-05 - accuracy: 1.0000 - val_loss: 1.3305 - val_accuracy: 0.8527\n",
      "Epoch 48/100\n",
      "5924/5924 [==============================] - 5s 780us/sample - loss: 1.8392e-05 - accuracy: 1.0000 - val_loss: 1.3413 - val_accuracy: 0.8527\n",
      "Epoch 49/100\n",
      "5924/5924 [==============================] - 5s 780us/sample - loss: 1.6175e-05 - accuracy: 1.0000 - val_loss: 1.3598 - val_accuracy: 0.8527\n",
      "Epoch 50/100\n",
      "5924/5924 [==============================] - 5s 779us/sample - loss: 1.4277e-05 - accuracy: 1.0000 - val_loss: 1.3724 - val_accuracy: 0.8527\n",
      "Epoch 51/100\n",
      "5924/5924 [==============================] - 5s 780us/sample - loss: 1.2688e-05 - accuracy: 1.0000 - val_loss: 1.3845 - val_accuracy: 0.8527\n",
      "Epoch 52/100\n",
      "5924/5924 [==============================] - 5s 781us/sample - loss: 1.1198e-05 - accuracy: 1.0000 - val_loss: 1.4026 - val_accuracy: 0.8500\n",
      "Epoch 53/100\n",
      "5924/5924 [==============================] - 5s 781us/sample - loss: 9.9180e-06 - accuracy: 1.0000 - val_loss: 1.4152 - val_accuracy: 0.8500\n",
      "Epoch 54/100\n",
      "5924/5924 [==============================] - 5s 782us/sample - loss: 8.8107e-06 - accuracy: 1.0000 - val_loss: 1.4331 - val_accuracy: 0.8500\n",
      "Epoch 55/100\n",
      "5924/5924 [==============================] - 5s 781us/sample - loss: 7.8703e-06 - accuracy: 1.0000 - val_loss: 1.4379 - val_accuracy: 0.8500\n",
      "Epoch 56/100\n",
      "5924/5924 [==============================] - 5s 782us/sample - loss: 7.0346e-06 - accuracy: 1.0000 - val_loss: 1.4501 - val_accuracy: 0.8500\n",
      "Epoch 57/100\n",
      "5924/5924 [==============================] - 5s 782us/sample - loss: 6.2918e-06 - accuracy: 1.0000 - val_loss: 1.4668 - val_accuracy: 0.8500\n",
      "Epoch 58/100\n",
      "5924/5924 [==============================] - 5s 782us/sample - loss: 5.6053e-06 - accuracy: 1.0000 - val_loss: 1.4763 - val_accuracy: 0.8500\n",
      "Epoch 59/100\n",
      "5924/5924 [==============================] - 5s 782us/sample - loss: 5.0068e-06 - accuracy: 1.0000 - val_loss: 1.4925 - val_accuracy: 0.8500\n",
      "Epoch 60/100\n",
      "5924/5924 [==============================] - 5s 782us/sample - loss: 4.4875e-06 - accuracy: 1.0000 - val_loss: 1.5048 - val_accuracy: 0.8500\n",
      "Epoch 61/100\n",
      "5924/5924 [==============================] - 5s 782us/sample - loss: 4.0283e-06 - accuracy: 1.0000 - val_loss: 1.5210 - val_accuracy: 0.8514\n",
      "Epoch 62/100\n",
      "5924/5924 [==============================] - 5s 783us/sample - loss: 3.6229e-06 - accuracy: 1.0000 - val_loss: 1.5289 - val_accuracy: 0.8500\n",
      "Epoch 63/100\n",
      "5924/5924 [==============================] - 5s 783us/sample - loss: 3.2454e-06 - accuracy: 1.0000 - val_loss: 1.5391 - val_accuracy: 0.8500\n",
      "Epoch 64/100\n",
      "5924/5924 [==============================] - 5s 782us/sample - loss: 2.9240e-06 - accuracy: 1.0000 - val_loss: 1.5522 - val_accuracy: 0.8500\n",
      "Epoch 65/100\n",
      "5924/5924 [==============================] - 5s 783us/sample - loss: 2.6294e-06 - accuracy: 1.0000 - val_loss: 1.5631 - val_accuracy: 0.8486\n",
      "Epoch 66/100\n",
      "5924/5924 [==============================] - 5s 783us/sample - loss: 2.3560e-06 - accuracy: 1.0000 - val_loss: 1.5766 - val_accuracy: 0.8486\n",
      "Epoch 67/100\n",
      "5924/5924 [==============================] - 5s 783us/sample - loss: 2.1197e-06 - accuracy: 1.0000 - val_loss: 1.5887 - val_accuracy: 0.8486\n",
      "Epoch 68/100\n",
      "5924/5924 [==============================] - 5s 783us/sample - loss: 1.9078e-06 - accuracy: 1.0000 - val_loss: 1.6030 - val_accuracy: 0.8473\n",
      "Epoch 69/100\n",
      "5924/5924 [==============================] - 5s 784us/sample - loss: 1.7082e-06 - accuracy: 1.0000 - val_loss: 1.6142 - val_accuracy: 0.8473\n",
      "Epoch 70/100\n",
      "5924/5924 [==============================] - 5s 783us/sample - loss: 1.5373e-06 - accuracy: 1.0000 - val_loss: 1.6205 - val_accuracy: 0.8473\n",
      "Epoch 71/100\n",
      "5924/5924 [==============================] - 5s 783us/sample - loss: 1.3808e-06 - accuracy: 1.0000 - val_loss: 1.6373 - val_accuracy: 0.8473\n",
      "Epoch 72/100\n",
      "5924/5924 [==============================] - 5s 784us/sample - loss: 1.2448e-06 - accuracy: 1.0000 - val_loss: 1.6457 - val_accuracy: 0.8473\n",
      "Epoch 73/100\n",
      "5924/5924 [==============================] - 5s 783us/sample - loss: 1.1169e-06 - accuracy: 1.0000 - val_loss: 1.6636 - val_accuracy: 0.8486\n",
      "Epoch 74/100\n",
      "5924/5924 [==============================] - 5s 784us/sample - loss: 1.0079e-06 - accuracy: 1.0000 - val_loss: 1.6725 - val_accuracy: 0.8473\n",
      "Epoch 75/100\n",
      "5924/5924 [==============================] - 5s 789us/sample - loss: 9.0651e-07 - accuracy: 1.0000 - val_loss: 1.6836 - val_accuracy: 0.8473\n",
      "Epoch 76/100\n",
      "5924/5924 [==============================] - 5s 783us/sample - loss: 8.1502e-07 - accuracy: 1.0000 - val_loss: 1.6979 - val_accuracy: 0.8473\n",
      "Epoch 77/100\n",
      "5924/5924 [==============================] - 5s 783us/sample - loss: 7.3012e-07 - accuracy: 1.0000 - val_loss: 1.7196 - val_accuracy: 0.8473\n",
      "Epoch 78/100\n",
      "5924/5924 [==============================] - 5s 784us/sample - loss: 6.5887e-07 - accuracy: 1.0000 - val_loss: 1.7262 - val_accuracy: 0.8473\n",
      "Epoch 79/100\n",
      "5924/5924 [==============================] - 5s 784us/sample - loss: 5.9035e-07 - accuracy: 1.0000 - val_loss: 1.7353 - val_accuracy: 0.8473\n",
      "Epoch 80/100\n",
      "5924/5924 [==============================] - 5s 785us/sample - loss: 5.2744e-07 - accuracy: 1.0000 - val_loss: 1.7505 - val_accuracy: 0.8473\n",
      "Epoch 81/100\n",
      "5924/5924 [==============================] - 5s 785us/sample - loss: 4.7094e-07 - accuracy: 1.0000 - val_loss: 1.7680 - val_accuracy: 0.8459\n",
      "Epoch 82/100\n",
      "5924/5924 [==============================] - 5s 784us/sample - loss: 4.2379e-07 - accuracy: 1.0000 - val_loss: 1.7787 - val_accuracy: 0.8459\n",
      "Epoch 83/100\n",
      "5924/5924 [==============================] - 5s 783us/sample - loss: 3.7799e-07 - accuracy: 1.0000 - val_loss: 1.7908 - val_accuracy: 0.8473\n",
      "Epoch 84/100\n",
      "5924/5924 [==============================] - 5s 784us/sample - loss: 3.4143e-07 - accuracy: 1.0000 - val_loss: 1.8080 - val_accuracy: 0.8473\n",
      "Epoch 85/100\n",
      "5924/5924 [==============================] - 5s 784us/sample - loss: 3.0422e-07 - accuracy: 1.0000 - val_loss: 1.8244 - val_accuracy: 0.8473\n",
      "Epoch 86/100\n",
      "5924/5924 [==============================] - 5s 784us/sample - loss: 2.6985e-07 - accuracy: 1.0000 - val_loss: 1.8418 - val_accuracy: 0.8473\n",
      "Epoch 87/100\n",
      "5924/5924 [==============================] - 5s 785us/sample - loss: 2.3991e-07 - accuracy: 1.0000 - val_loss: 1.8605 - val_accuracy: 0.8459\n",
      "Epoch 88/100\n",
      "5924/5924 [==============================] - 5s 785us/sample - loss: 2.1503e-07 - accuracy: 1.0000 - val_loss: 1.8720 - val_accuracy: 0.8473\n",
      "Epoch 89/100\n",
      "5924/5924 [==============================] - 5s 785us/sample - loss: 1.9167e-07 - accuracy: 1.0000 - val_loss: 1.8946 - val_accuracy: 0.8459\n",
      "Epoch 90/100\n",
      "5924/5924 [==============================] - 5s 785us/sample - loss: 1.7147e-07 - accuracy: 1.0000 - val_loss: 1.9101 - val_accuracy: 0.8459\n",
      "Epoch 91/100\n",
      "5924/5924 [==============================] - 5s 786us/sample - loss: 1.5442e-07 - accuracy: 1.0000 - val_loss: 1.9230 - val_accuracy: 0.8473\n",
      "Epoch 92/100\n",
      "5924/5924 [==============================] - 5s 785us/sample - loss: 1.3746e-07 - accuracy: 1.0000 - val_loss: 1.9471 - val_accuracy: 0.8473\n",
      "Epoch 93/100\n",
      "5924/5924 [==============================] - 5s 786us/sample - loss: 1.2321e-07 - accuracy: 1.0000 - val_loss: 1.9662 - val_accuracy: 0.8486\n",
      "Epoch 94/100\n",
      "5924/5924 [==============================] - 5s 784us/sample - loss: 1.1154e-07 - accuracy: 1.0000 - val_loss: 1.9738 - val_accuracy: 0.8473\n",
      "Epoch 95/100\n",
      "5924/5924 [==============================] - 5s 784us/sample - loss: 1.0039e-07 - accuracy: 1.0000 - val_loss: 1.9874 - val_accuracy: 0.8486\n",
      "Epoch 96/100\n",
      "5924/5924 [==============================] - 5s 785us/sample - loss: 9.0051e-08 - accuracy: 1.0000 - val_loss: 2.0027 - val_accuracy: 0.8486\n",
      "Epoch 97/100\n",
      "5924/5924 [==============================] - 5s 784us/sample - loss: 8.1398e-08 - accuracy: 1.0000 - val_loss: 2.0170 - val_accuracy: 0.8500\n",
      "Epoch 98/100\n",
      "5924/5924 [==============================] - 5s 784us/sample - loss: 7.2825e-08 - accuracy: 1.0000 - val_loss: 2.0330 - val_accuracy: 0.8486\n",
      "Epoch 99/100\n",
      "5924/5924 [==============================] - 5s 784us/sample - loss: 6.5239e-08 - accuracy: 1.0000 - val_loss: 2.0488 - val_accuracy: 0.8486\n",
      "Epoch 100/100\n",
      "5924/5924 [==============================] - 5s 785us/sample - loss: 5.9081e-08 - accuracy: 1.0000 - val_loss: 2.0618 - val_accuracy: 0.8486\n"
     ]
    }
   ],
   "source": [
    "EPOCHS = 100\n",
    "checkpoint_filepath = '../temp_checkpoint/'\n",
    "model_checkpoint_callback = tf.keras.callbacks.ModelCheckpoint(\n",
    "    filepath=checkpoint_filepath,\n",
    "    save_weights_only=True,\n",
    "    monitor='accuracy',\n",
    "    mode='max',\n",
    "    save_best_only=True)\n",
    "\n",
    "# Define the Keras TensorBoard callback.\n",
    "log_dir = \"logs/fit/\" + datetime.now().strftime(\"%Y%m%d-%H%M%S\")\n",
    "tensorboard_callback = tf.keras.callbacks.TensorBoard(log_dir=log_dir, histogram_freq=1)\n",
    "\n",
    "# Train the model.\n",
    "history = model.fit(X_tr, y_tr, epochs=EPOCHS, validation_data=(X_ts, y_ts), callbacks=[tensorboard_callback, model_checkpoint_callback])"
   ]
  },
  {
   "cell_type": "code",
   "execution_count": 32,
   "metadata": {},
   "outputs": [
    {
     "data": {
      "text/plain": [
       "Reusing TensorBoard on port 6006 (pid 3430), started 1:42:40 ago. (Use '!kill 3430' to kill it.)"
      ]
     },
     "metadata": {},
     "output_type": "display_data"
    },
    {
     "data": {
      "text/html": [
       "\n",
       "      <iframe id=\"tensorboard-frame-134a66f923257895\" width=\"100%\" height=\"800\" frameborder=\"0\">\n",
       "      </iframe>\n",
       "      <script>\n",
       "        (function() {\n",
       "          const frame = document.getElementById(\"tensorboard-frame-134a66f923257895\");\n",
       "          const url = new URL(\"/\", window.location);\n",
       "          url.port = 6006;\n",
       "          frame.src = url;\n",
       "        })();\n",
       "      </script>\n",
       "  "
      ],
      "text/plain": [
       "<IPython.core.display.HTML object>"
      ]
     },
     "metadata": {},
     "output_type": "display_data"
    }
   ],
   "source": [
    "# Show tensorboard\n",
    "# %tensorboard --logdir logs/fit"
   ]
  },
  {
   "cell_type": "code",
   "execution_count": 33,
   "metadata": {},
   "outputs": [
    {
     "name": "stdout",
     "output_type": "stream",
     "text": [
      "740/740 [==============================] - 0s 329us/sample - loss: 0.7491 - accuracy: 0.8919\n"
     ]
    }
   ],
   "source": [
    "checkpoint_filepath = '../temp_checkpoint/'\n",
    "model.load_weights(checkpoint_filepath)\n",
    "val_loss, val_acc = model.evaluate(X_ho, y_ho, verbose=1)"
   ]
  },
  {
   "cell_type": "markdown",
   "metadata": {},
   "source": [
    "then build the best model"
   ]
  },
  {
   "cell_type": "code",
   "execution_count": 121,
   "metadata": {},
   "outputs": [],
   "source": [
    "# Best model\n",
    "model = Sequential()\n",
    "model.add(Conv2D(32, (5, 5), activation='relu', input_shape=(128, 256, 1), padding = 'same'))\n",
    "model.add(MaxPooling2D((3, 3)))\n",
    "model.add(Dropout(0.25))\n",
    "model.add(Conv2D(64, (5, 5), activation='relu', padding = 'same'))\n",
    "model.add(MaxPooling2D((3, 3)))\n",
    "model.add(Dropout(0.25))\n",
    "model.add(Conv2D(128, (5, 5), activation='relu', padding = 'same'))\n",
    "model.add(MaxPooling2D((3, 3)))\n",
    "model.add(Dropout(0.25))\n",
    "model.add(Flatten())\n",
    "model.add(Dense(256, activation='relu'))\n",
    "model.add(Dense(2, activation='softmax'))"
   ]
  },
  {
   "cell_type": "code",
   "execution_count": null,
   "metadata": {},
   "outputs": [],
   "source": [
    "model.summary()"
   ]
  },
  {
   "cell_type": "code",
   "execution_count": 117,
   "metadata": {},
   "outputs": [],
   "source": [
    "tf.keras.losses.SparseCategoricalCrossentropy(name='sparse_categorical_crossentropy')\n",
    "\n",
    "model.compile(optimizer='adam',\n",
    "              loss='sparse_categorical_crossentropy',\n",
    "              metrics=['accuracy'])"
   ]
  },
  {
   "cell_type": "code",
   "execution_count": 118,
   "metadata": {},
   "outputs": [],
   "source": [
    "EPOCHS = 100\n",
    "checkpoint_filepath = '../temp_checkpoint/'\n",
    "model_checkpoint_callback = tf.keras.callbacks.ModelCheckpoint(\n",
    "    filepath=checkpoint_filepath,\n",
    "    save_weights_only=True,\n",
    "    monitor='val_accuracy',\n",
    "    mode='max',\n",
    "    save_best_only=True)"
   ]
  },
  {
   "cell_type": "code",
   "execution_count": null,
   "metadata": {
    "scrolled": true
   },
   "outputs": [],
   "source": [
    "history = model.fit(X_tr, y_tr, epochs=EPOCHS, validation_data=(X_ts, y_ts), callbacks=[model_checkpoint_callback])"
   ]
  },
  {
   "cell_type": "code",
   "execution_count": null,
   "metadata": {},
   "outputs": [],
   "source": [
    "checkpoint_filepath = '../temp_checkpoint/'\n",
    "model.load_weights(checkpoint_filepath)\n",
    "val_loss, val_acc = model.evaluate(X_ho, y_ho, verbose=1)"
   ]
  },
  {
   "cell_type": "markdown",
   "metadata": {},
   "source": [
    "save the model"
   ]
  },
  {
   "cell_type": "code",
   "execution_count": null,
   "metadata": {},
   "outputs": [],
   "source": [
    "# model.save('../saved_model/20200604/')"
   ]
  },
  {
   "cell_type": "markdown",
   "metadata": {},
   "source": [
    "### 05 - Load the best model"
   ]
  },
  {
   "cell_type": "code",
   "execution_count": 34,
   "metadata": {},
   "outputs": [],
   "source": [
    "new_model = tf.keras.models.load_model('../saved_model/20200604')"
   ]
  },
  {
   "cell_type": "code",
   "execution_count": 35,
   "metadata": {},
   "outputs": [
    {
     "name": "stdout",
     "output_type": "stream",
     "text": [
      "Model: \"sequential_9\"\n",
      "_________________________________________________________________\n",
      "Layer (type)                 Output Shape              Param #   \n",
      "=================================================================\n",
      "conv2d_19 (Conv2D)           (None, 128, 256, 32)      832       \n",
      "_________________________________________________________________\n",
      "max_pooling2d_19 (MaxPooling (None, 42, 85, 32)        0         \n",
      "_________________________________________________________________\n",
      "dropout_3 (Dropout)          (None, 42, 85, 32)        0         \n",
      "_________________________________________________________________\n",
      "conv2d_20 (Conv2D)           (None, 42, 85, 64)        51264     \n",
      "_________________________________________________________________\n",
      "max_pooling2d_20 (MaxPooling (None, 14, 28, 64)        0         \n",
      "_________________________________________________________________\n",
      "dropout_4 (Dropout)          (None, 14, 28, 64)        0         \n",
      "_________________________________________________________________\n",
      "conv2d_21 (Conv2D)           (None, 14, 28, 128)       204928    \n",
      "_________________________________________________________________\n",
      "max_pooling2d_21 (MaxPooling (None, 4, 9, 128)         0         \n",
      "_________________________________________________________________\n",
      "dropout_5 (Dropout)          (None, 4, 9, 128)         0         \n",
      "_________________________________________________________________\n",
      "flatten_9 (Flatten)          (None, 4608)              0         \n",
      "_________________________________________________________________\n",
      "dense_18 (Dense)             (None, 256)               1179904   \n",
      "_________________________________________________________________\n",
      "dense_19 (Dense)             (None, 2)                 514       \n",
      "=================================================================\n",
      "Total params: 1,437,442\n",
      "Trainable params: 1,437,442\n",
      "Non-trainable params: 0\n",
      "_________________________________________________________________\n"
     ]
    }
   ],
   "source": [
    "new_model.summary()"
   ]
  },
  {
   "cell_type": "code",
   "execution_count": 36,
   "metadata": {},
   "outputs": [
    {
     "name": "stdout",
     "output_type": "stream",
     "text": [
      "740/740 [==============================] - 0s 444us/sample - loss: 0.2762 - accuracy: 0.9135\n"
     ]
    }
   ],
   "source": [
    "val_loss, val_acc = new_model.evaluate(X_ho, y_ho, verbose=1)"
   ]
  },
  {
   "cell_type": "markdown",
   "metadata": {},
   "source": [
    "### 06 - Tensorboard"
   ]
  },
  {
   "cell_type": "code",
   "execution_count": 10,
   "metadata": {
    "scrolled": true
   },
   "outputs": [
    {
     "name": "stdout",
     "output_type": "stream",
     "text": [
      "Train on 5924 samples, validate on 740 samples\n",
      "Epoch 1/100\n",
      "5924/5924 [==============================] - 5s 822us/sample - loss: 0.0795 - accuracy: 0.9715 - val_loss: 0.3719 - val_accuracy: 0.8905\n",
      "Epoch 2/100\n",
      "5924/5924 [==============================] - 5s 811us/sample - loss: 0.0712 - accuracy: 0.9745 - val_loss: 0.3535 - val_accuracy: 0.8905\n",
      "Epoch 3/100\n",
      "5924/5924 [==============================] - 5s 810us/sample - loss: 0.1230 - accuracy: 0.9576 - val_loss: 0.3424 - val_accuracy: 0.8851\n",
      "Epoch 4/100\n",
      "5924/5924 [==============================] - 5s 811us/sample - loss: 0.0902 - accuracy: 0.9700 - val_loss: 0.4651 - val_accuracy: 0.8919\n",
      "Epoch 5/100\n",
      "5924/5924 [==============================] - 5s 812us/sample - loss: 0.0804 - accuracy: 0.9713 - val_loss: 0.3881 - val_accuracy: 0.8878\n",
      "Epoch 6/100\n",
      "5924/5924 [==============================] - 5s 813us/sample - loss: 0.0700 - accuracy: 0.9735 - val_loss: 0.3876 - val_accuracy: 0.8892\n",
      "Epoch 7/100\n",
      "5924/5924 [==============================] - 5s 812us/sample - loss: 0.0737 - accuracy: 0.9752 - val_loss: 0.3324 - val_accuracy: 0.8919\n",
      "Epoch 8/100\n",
      "5924/5924 [==============================] - 5s 813us/sample - loss: 0.0661 - accuracy: 0.9762 - val_loss: 0.3784 - val_accuracy: 0.8892\n",
      "Epoch 9/100\n",
      "5924/5924 [==============================] - 5s 813us/sample - loss: 0.0638 - accuracy: 0.9787 - val_loss: 0.4023 - val_accuracy: 0.8824\n",
      "Epoch 10/100\n",
      "5924/5924 [==============================] - 5s 815us/sample - loss: 0.0675 - accuracy: 0.9743 - val_loss: 0.4196 - val_accuracy: 0.8946\n",
      "Epoch 11/100\n",
      "5924/5924 [==============================] - 5s 814us/sample - loss: 0.0697 - accuracy: 0.9777 - val_loss: 0.3801 - val_accuracy: 0.8905\n",
      "Epoch 12/100\n",
      "5924/5924 [==============================] - 5s 814us/sample - loss: 0.0690 - accuracy: 0.9759 - val_loss: 0.3601 - val_accuracy: 0.8932\n",
      "Epoch 13/100\n",
      "5924/5924 [==============================] - 5s 814us/sample - loss: 0.0583 - accuracy: 0.9814 - val_loss: 0.3477 - val_accuracy: 0.9027\n",
      "Epoch 14/100\n",
      "5924/5924 [==============================] - 5s 816us/sample - loss: 0.0571 - accuracy: 0.9787 - val_loss: 0.3805 - val_accuracy: 0.8892\n",
      "Epoch 15/100\n",
      "5924/5924 [==============================] - 5s 816us/sample - loss: 0.0946 - accuracy: 0.9694 - val_loss: 0.4012 - val_accuracy: 0.8838\n",
      "Epoch 16/100\n",
      "5924/5924 [==============================] - 5s 816us/sample - loss: 0.0679 - accuracy: 0.9757 - val_loss: 0.4893 - val_accuracy: 0.8757\n",
      "Epoch 17/100\n",
      "5924/5924 [==============================] - 5s 817us/sample - loss: 0.0745 - accuracy: 0.9725 - val_loss: 0.4457 - val_accuracy: 0.8838\n",
      "Epoch 18/100\n",
      "5924/5924 [==============================] - 5s 816us/sample - loss: 0.0784 - accuracy: 0.9710 - val_loss: 0.4553 - val_accuracy: 0.8824\n",
      "Epoch 19/100\n",
      "5924/5924 [==============================] - 5s 818us/sample - loss: 0.0607 - accuracy: 0.9806 - val_loss: 0.3972 - val_accuracy: 0.8959\n",
      "Epoch 20/100\n",
      "5924/5924 [==============================] - 5s 818us/sample - loss: 0.0643 - accuracy: 0.9782 - val_loss: 0.3875 - val_accuracy: 0.8757\n",
      "Epoch 21/100\n",
      "5924/5924 [==============================] - 5s 817us/sample - loss: 0.0539 - accuracy: 0.9802 - val_loss: 0.3778 - val_accuracy: 0.8946\n",
      "Epoch 22/100\n",
      "5924/5924 [==============================] - 5s 818us/sample - loss: 0.0698 - accuracy: 0.9767 - val_loss: 0.4395 - val_accuracy: 0.8919\n",
      "Epoch 23/100\n",
      "5924/5924 [==============================] - 5s 818us/sample - loss: 0.1020 - accuracy: 0.9659 - val_loss: 0.4397 - val_accuracy: 0.8851\n",
      "Epoch 24/100\n",
      "5924/5924 [==============================] - 5s 820us/sample - loss: 0.0548 - accuracy: 0.9813 - val_loss: 0.4632 - val_accuracy: 0.8946\n",
      "Epoch 25/100\n",
      "5924/5924 [==============================] - 5s 819us/sample - loss: 0.0726 - accuracy: 0.9747 - val_loss: 0.4377 - val_accuracy: 0.8905\n",
      "Epoch 26/100\n",
      "5924/5924 [==============================] - 5s 819us/sample - loss: 0.0751 - accuracy: 0.9735 - val_loss: 0.3078 - val_accuracy: 0.8973\n",
      "Epoch 27/100\n",
      "5924/5924 [==============================] - 5s 820us/sample - loss: 0.0637 - accuracy: 0.9757 - val_loss: 0.4146 - val_accuracy: 0.8851\n",
      "Epoch 28/100\n",
      "5924/5924 [==============================] - 5s 820us/sample - loss: 0.0698 - accuracy: 0.9779 - val_loss: 0.4312 - val_accuracy: 0.8878\n",
      "Epoch 29/100\n",
      "5924/5924 [==============================] - 5s 820us/sample - loss: 0.0436 - accuracy: 0.9819 - val_loss: 0.3817 - val_accuracy: 0.8932\n",
      "Epoch 30/100\n",
      "5924/5924 [==============================] - 5s 822us/sample - loss: 0.0510 - accuracy: 0.9819 - val_loss: 0.4340 - val_accuracy: 0.8797\n",
      "Epoch 31/100\n",
      "5924/5924 [==============================] - 5s 821us/sample - loss: 0.0565 - accuracy: 0.9808 - val_loss: 0.4278 - val_accuracy: 0.8770\n",
      "Epoch 32/100\n",
      "5924/5924 [==============================] - 5s 827us/sample - loss: 0.0550 - accuracy: 0.9813 - val_loss: 0.4316 - val_accuracy: 0.8851\n",
      "Epoch 33/100\n",
      "5924/5924 [==============================] - 5s 822us/sample - loss: 0.0523 - accuracy: 0.9848 - val_loss: 0.4350 - val_accuracy: 0.8892\n",
      "Epoch 34/100\n",
      "5924/5924 [==============================] - 5s 823us/sample - loss: 0.0539 - accuracy: 0.9808 - val_loss: 0.4731 - val_accuracy: 0.9014\n",
      "Epoch 35/100\n",
      "5924/5924 [==============================] - 5s 823us/sample - loss: 0.1114 - accuracy: 0.9639 - val_loss: 0.4963 - val_accuracy: 0.8838\n",
      "Epoch 36/100\n",
      "5924/5924 [==============================] - 5s 823us/sample - loss: 0.0666 - accuracy: 0.9818 - val_loss: 0.4117 - val_accuracy: 0.8770\n",
      "Epoch 37/100\n",
      "5924/5924 [==============================] - 5s 823us/sample - loss: 0.0490 - accuracy: 0.9840 - val_loss: 0.4347 - val_accuracy: 0.9000\n",
      "Epoch 38/100\n",
      "5924/5924 [==============================] - 5s 823us/sample - loss: 0.0515 - accuracy: 0.9845 - val_loss: 0.3901 - val_accuracy: 0.8892\n",
      "Epoch 39/100\n",
      "5924/5924 [==============================] - 5s 823us/sample - loss: 0.0565 - accuracy: 0.9824 - val_loss: 0.3774 - val_accuracy: 0.8946\n",
      "Epoch 40/100\n",
      "5924/5924 [==============================] - 5s 823us/sample - loss: 0.0825 - accuracy: 0.9760 - val_loss: 0.4493 - val_accuracy: 0.8757\n",
      "Epoch 41/100\n",
      "5924/5924 [==============================] - 5s 824us/sample - loss: 0.0608 - accuracy: 0.9814 - val_loss: 0.4389 - val_accuracy: 0.8824\n",
      "Epoch 42/100\n",
      "5924/5924 [==============================] - 5s 823us/sample - loss: 0.0540 - accuracy: 0.9824 - val_loss: 0.4915 - val_accuracy: 0.8838\n",
      "Epoch 43/100\n",
      "5924/5924 [==============================] - 5s 826us/sample - loss: 0.0850 - accuracy: 0.9747 - val_loss: 0.3953 - val_accuracy: 0.8959\n",
      "Epoch 44/100\n",
      "5924/5924 [==============================] - 5s 826us/sample - loss: 0.0476 - accuracy: 0.9845 - val_loss: 0.5076 - val_accuracy: 0.8959\n",
      "Epoch 45/100\n",
      "5924/5924 [==============================] - 5s 827us/sample - loss: 0.0410 - accuracy: 0.9872 - val_loss: 0.4887 - val_accuracy: 0.8932\n",
      "Epoch 46/100\n",
      "5924/5924 [==============================] - 5s 826us/sample - loss: 0.0526 - accuracy: 0.9853 - val_loss: 0.5719 - val_accuracy: 0.8919\n",
      "Epoch 47/100\n",
      "5924/5924 [==============================] - 5s 830us/sample - loss: 0.1095 - accuracy: 0.9674 - val_loss: 0.4083 - val_accuracy: 0.8946\n",
      "Epoch 48/100\n",
      "5924/5924 [==============================] - 5s 826us/sample - loss: 0.0871 - accuracy: 0.9750 - val_loss: 0.4120 - val_accuracy: 0.9000\n",
      "Epoch 49/100\n",
      "5924/5924 [==============================] - 5s 828us/sample - loss: 0.0417 - accuracy: 0.9882 - val_loss: 0.4514 - val_accuracy: 0.8851\n",
      "Epoch 50/100\n",
      "5924/5924 [==============================] - 5s 826us/sample - loss: 0.0457 - accuracy: 0.9838 - val_loss: 0.4754 - val_accuracy: 0.8824\n",
      "Epoch 51/100\n",
      "5924/5924 [==============================] - 5s 826us/sample - loss: 0.0474 - accuracy: 0.9835 - val_loss: 0.4318 - val_accuracy: 0.9054\n",
      "Epoch 52/100\n",
      "5924/5924 [==============================] - 5s 828us/sample - loss: 0.0558 - accuracy: 0.9838 - val_loss: 0.5164 - val_accuracy: 0.8959\n",
      "Epoch 53/100\n",
      "5924/5924 [==============================] - 5s 828us/sample - loss: 0.0565 - accuracy: 0.9831 - val_loss: 0.4725 - val_accuracy: 0.8757\n",
      "Epoch 54/100\n",
      "5924/5924 [==============================] - 5s 827us/sample - loss: 0.0593 - accuracy: 0.9840 - val_loss: 0.4226 - val_accuracy: 0.8986\n",
      "Epoch 55/100\n",
      "5924/5924 [==============================] - 5s 827us/sample - loss: 0.0720 - accuracy: 0.9797 - val_loss: 0.5227 - val_accuracy: 0.8905\n",
      "Epoch 56/100\n",
      "5924/5924 [==============================] - 5s 828us/sample - loss: 0.0630 - accuracy: 0.9816 - val_loss: 0.3597 - val_accuracy: 0.9000\n",
      "Epoch 57/100\n",
      "5924/5924 [==============================] - 5s 827us/sample - loss: 0.0534 - accuracy: 0.9838 - val_loss: 0.6540 - val_accuracy: 0.8811\n",
      "Epoch 58/100\n",
      "5924/5924 [==============================] - 5s 829us/sample - loss: 0.0945 - accuracy: 0.9759 - val_loss: 0.5280 - val_accuracy: 0.8716\n",
      "Epoch 59/100\n",
      "5924/5924 [==============================] - 5s 828us/sample - loss: 0.0664 - accuracy: 0.9809 - val_loss: 0.4526 - val_accuracy: 0.8878\n",
      "Epoch 60/100\n",
      "5924/5924 [==============================] - 5s 828us/sample - loss: 0.0662 - accuracy: 0.9806 - val_loss: 0.5486 - val_accuracy: 0.8878\n",
      "Epoch 61/100\n",
      "5924/5924 [==============================] - 5s 828us/sample - loss: 0.0631 - accuracy: 0.9809 - val_loss: 0.4392 - val_accuracy: 0.8905\n",
      "Epoch 62/100\n",
      "5924/5924 [==============================] - 5s 830us/sample - loss: 0.0625 - accuracy: 0.9828 - val_loss: 0.5568 - val_accuracy: 0.8716\n",
      "Epoch 63/100\n",
      "5924/5924 [==============================] - 5s 828us/sample - loss: 0.0334 - accuracy: 0.9872 - val_loss: 0.6154 - val_accuracy: 0.8689\n",
      "Epoch 64/100\n",
      "5924/5924 [==============================] - 5s 828us/sample - loss: 0.1453 - accuracy: 0.9499 - val_loss: 0.4339 - val_accuracy: 0.8919\n",
      "Epoch 65/100\n",
      "5924/5924 [==============================] - 5s 829us/sample - loss: 0.1138 - accuracy: 0.9644 - val_loss: 0.4414 - val_accuracy: 0.8757\n",
      "Epoch 66/100\n",
      "5924/5924 [==============================] - 5s 828us/sample - loss: 0.0766 - accuracy: 0.9759 - val_loss: 0.4305 - val_accuracy: 0.8838\n",
      "Epoch 67/100\n",
      "5924/5924 [==============================] - 5s 828us/sample - loss: 0.0684 - accuracy: 0.9782 - val_loss: 0.5227 - val_accuracy: 0.8662\n",
      "Epoch 68/100\n",
      "5924/5924 [==============================] - 5s 828us/sample - loss: 0.0817 - accuracy: 0.9716 - val_loss: 0.4986 - val_accuracy: 0.8770\n",
      "Epoch 69/100\n",
      "5924/5924 [==============================] - 5s 834us/sample - loss: 0.0593 - accuracy: 0.9808 - val_loss: 0.4896 - val_accuracy: 0.8716\n",
      "Epoch 70/100\n",
      "5924/5924 [==============================] - 5s 828us/sample - loss: 0.0524 - accuracy: 0.9841 - val_loss: 0.6290 - val_accuracy: 0.8838\n",
      "Epoch 71/100\n",
      "5924/5924 [==============================] - 5s 829us/sample - loss: 0.0718 - accuracy: 0.9781 - val_loss: 0.4496 - val_accuracy: 0.8784\n",
      "Epoch 72/100\n",
      "5924/5924 [==============================] - 5s 829us/sample - loss: 0.0622 - accuracy: 0.9813 - val_loss: 0.5458 - val_accuracy: 0.8878\n",
      "Epoch 73/100\n",
      "5924/5924 [==============================] - 5s 828us/sample - loss: 0.1069 - accuracy: 0.9679 - val_loss: 0.4089 - val_accuracy: 0.8676\n",
      "Epoch 74/100\n",
      "5924/5924 [==============================] - 5s 829us/sample - loss: 0.0864 - accuracy: 0.9728 - val_loss: 0.4837 - val_accuracy: 0.8851\n",
      "Epoch 75/100\n",
      "5924/5924 [==============================] - 5s 828us/sample - loss: 0.0694 - accuracy: 0.9789 - val_loss: 0.5251 - val_accuracy: 0.8743\n",
      "Epoch 76/100\n",
      "5924/5924 [==============================] - 5s 828us/sample - loss: 0.1303 - accuracy: 0.9622 - val_loss: 0.4741 - val_accuracy: 0.8919\n",
      "Epoch 77/100\n",
      "5924/5924 [==============================] - 5s 829us/sample - loss: 0.0961 - accuracy: 0.9750 - val_loss: 0.6905 - val_accuracy: 0.8838\n",
      "Epoch 78/100\n",
      "5924/5924 [==============================] - 5s 829us/sample - loss: 0.0530 - accuracy: 0.9828 - val_loss: 0.5406 - val_accuracy: 0.8838\n",
      "Epoch 79/100\n",
      "5924/5924 [==============================] - 5s 829us/sample - loss: 0.0658 - accuracy: 0.9801 - val_loss: 0.4780 - val_accuracy: 0.9014\n",
      "Epoch 80/100\n",
      "5924/5924 [==============================] - 5s 829us/sample - loss: 0.0552 - accuracy: 0.9833 - val_loss: 0.6279 - val_accuracy: 0.8851\n",
      "Epoch 81/100\n",
      "5924/5924 [==============================] - 5s 829us/sample - loss: 0.0373 - accuracy: 0.9885 - val_loss: 0.5012 - val_accuracy: 0.8959\n",
      "Epoch 82/100\n",
      "5924/5924 [==============================] - 5s 829us/sample - loss: 0.0584 - accuracy: 0.9838 - val_loss: 0.4148 - val_accuracy: 0.8932\n",
      "Epoch 83/100\n",
      "5924/5924 [==============================] - 5s 829us/sample - loss: 0.0661 - accuracy: 0.9818 - val_loss: 0.6572 - val_accuracy: 0.8757\n",
      "Epoch 84/100\n",
      "5924/5924 [==============================] - 5s 828us/sample - loss: 0.0564 - accuracy: 0.9828 - val_loss: 0.6050 - val_accuracy: 0.8811\n",
      "Epoch 85/100\n",
      "5924/5924 [==============================] - 5s 829us/sample - loss: 0.0535 - accuracy: 0.9857 - val_loss: 0.5570 - val_accuracy: 0.8824\n",
      "Epoch 86/100\n",
      "5924/5924 [==============================] - 5s 829us/sample - loss: 0.0584 - accuracy: 0.9796 - val_loss: 0.5370 - val_accuracy: 0.8784\n",
      "Epoch 87/100\n",
      "5924/5924 [==============================] - 5s 828us/sample - loss: 0.0468 - accuracy: 0.9860 - val_loss: 0.5907 - val_accuracy: 0.8905\n",
      "Epoch 88/100\n",
      "5924/5924 [==============================] - 5s 829us/sample - loss: 0.0687 - accuracy: 0.9781 - val_loss: 0.7280 - val_accuracy: 0.8811\n",
      "Epoch 89/100\n",
      "5924/5924 [==============================] - 5s 829us/sample - loss: 0.0678 - accuracy: 0.9796 - val_loss: 0.4800 - val_accuracy: 0.8919\n",
      "Epoch 90/100\n",
      "5924/5924 [==============================] - 5s 829us/sample - loss: 0.0684 - accuracy: 0.9818 - val_loss: 0.4066 - val_accuracy: 0.8892\n",
      "Epoch 91/100\n",
      "5924/5924 [==============================] - 5s 829us/sample - loss: 0.0776 - accuracy: 0.9770 - val_loss: 0.6050 - val_accuracy: 0.8689\n",
      "Epoch 92/100\n",
      "5924/5924 [==============================] - 5s 828us/sample - loss: 0.0892 - accuracy: 0.9750 - val_loss: 0.6333 - val_accuracy: 0.8743\n",
      "Epoch 93/100\n",
      "5924/5924 [==============================] - 5s 829us/sample - loss: 0.1301 - accuracy: 0.9620 - val_loss: 0.5860 - val_accuracy: 0.8757\n",
      "Epoch 94/100\n",
      "5924/5924 [==============================] - 5s 829us/sample - loss: 0.0415 - accuracy: 0.9872 - val_loss: 0.5870 - val_accuracy: 0.8851\n",
      "Epoch 95/100\n",
      "5924/5924 [==============================] - 5s 828us/sample - loss: 0.0560 - accuracy: 0.9846 - val_loss: 0.6008 - val_accuracy: 0.8932\n",
      "Epoch 96/100\n",
      "5924/5924 [==============================] - 5s 829us/sample - loss: 0.0661 - accuracy: 0.9804 - val_loss: 0.5207 - val_accuracy: 0.8824\n",
      "Epoch 97/100\n",
      "5924/5924 [==============================] - 5s 828us/sample - loss: 0.1059 - accuracy: 0.9693 - val_loss: 0.4972 - val_accuracy: 0.8892\n",
      "Epoch 98/100\n",
      "5924/5924 [==============================] - 5s 829us/sample - loss: 0.0576 - accuracy: 0.9830 - val_loss: 0.5936 - val_accuracy: 0.8689\n",
      "Epoch 99/100\n",
      "5924/5924 [==============================] - 5s 829us/sample - loss: 0.0758 - accuracy: 0.9816 - val_loss: 0.6635 - val_accuracy: 0.8757\n",
      "Epoch 100/100\n",
      "5924/5924 [==============================] - 5s 828us/sample - loss: 0.0513 - accuracy: 0.9841 - val_loss: 0.6701 - val_accuracy: 0.8824\n"
     ]
    }
   ],
   "source": [
    "# Define the Keras TensorBoard callback.\n",
    "log_dir = \"logs/fit/\" + datetime.now().strftime(\"%Y%m%d-%H%M%S\")\n",
    "tensorboard_callback = tf.keras.callbacks.TensorBoard(log_dir=log_dir, histogram_freq=1)\n",
    "\n",
    "# Train the model.\n",
    "EPOCHS = 100\n",
    "history = new_model.fit(X_tr, y_tr, epochs=EPOCHS, validation_data=(X_ts, y_ts), callbacks=[tensorboard_callback])"
   ]
  },
  {
   "cell_type": "code",
   "execution_count": 9,
   "metadata": {},
   "outputs": [
    {
     "data": {
      "text/plain": [
       "Reusing TensorBoard on port 6006 (pid 3430), started 0:04:06 ago. (Use '!kill 3430' to kill it.)"
      ]
     },
     "metadata": {},
     "output_type": "display_data"
    },
    {
     "data": {
      "text/html": [
       "\n",
       "      <iframe id=\"tensorboard-frame-8f648b65db50850c\" width=\"100%\" height=\"800\" frameborder=\"0\">\n",
       "      </iframe>\n",
       "      <script>\n",
       "        (function() {\n",
       "          const frame = document.getElementById(\"tensorboard-frame-8f648b65db50850c\");\n",
       "          const url = new URL(\"/\", window.location);\n",
       "          url.port = 6006;\n",
       "          frame.src = url;\n",
       "        })();\n",
       "      </script>\n",
       "  "
      ],
      "text/plain": [
       "<IPython.core.display.HTML object>"
      ]
     },
     "metadata": {},
     "output_type": "display_data"
    }
   ],
   "source": [
    "# %tensorboard --logdir logs/fit"
   ]
  },
  {
   "cell_type": "markdown",
   "metadata": {},
   "source": [
    "### 07 - Confusion Matrix"
   ]
  },
  {
   "cell_type": "code",
   "execution_count": 40,
   "metadata": {},
   "outputs": [
    {
     "name": "stdout",
     "output_type": "stream",
     "text": [
      "[[347  23]\n",
      " [ 41 329]]\n"
     ]
    }
   ],
   "source": [
    "labels = ['Mainland China', 'Taiwan']\n",
    "y_pred = new_model.predict(X_ho)\n",
    "y_preds = np.argmax(y_pred, axis = 1)\n",
    "cm = confusion_matrix(y_ho, y_preds)\n",
    "print(cm)"
   ]
  },
  {
   "cell_type": "code",
   "execution_count": 43,
   "metadata": {},
   "outputs": [
    {
     "data": {
      "text/plain": [
       "[Text(0, 0.5, 'Mainland China'), Text(0, 1.5, 'Taiwan')]"
      ]
     },
     "execution_count": 43,
     "metadata": {},
     "output_type": "execute_result"
    },
    {
     "data": {
      "image/png": "[encoded data removed]",
      "text/plain": [
       "<Figure size 720x720 with 2 Axes>"
      ]
     },
     "metadata": {},
     "output_type": "display_data"
    }
   ],
   "source": [
    "fig, ax = plt.subplots(figsize=(10,10))\n",
    "sns.set(font_scale=1.25)\n",
    "sns.heatmap(cm, annot=True, annot_kws={\"size\": 20}, ax = ax, fmt='g')\n",
    "ax.set_title('Confusion Matrix')\n",
    "ax.set_xlabel('Prediction')\n",
    "ax.set_ylabel('True')\n",
    "ax.xaxis.set_ticklabels(labels)\n",
    "ax.yaxis.set_ticklabels(labels)\n",
    "# plt.savefig('img/confuse.png')"
   ]
  }
 ],
 "metadata": {
  "kernelspec": {
   "display_name": "Environment (conda_tensorflow2_p36)",
   "language": "python",
   "name": "conda_tensorflow2_p36"
  },
  "language_info": {
   "codemirror_mode": {
    "name": "ipython",
    "version": 3
   },
   "file_extension": ".py",
   "mimetype": "text/x-python",
   "name": "python",
   "nbconvert_exporter": "python",
   "pygments_lexer": "ipython3",
   "version": "3.6.10"
  }
 },
 "nbformat": 4,
 "nbformat_minor": 4
}
