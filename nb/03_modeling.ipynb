{
 "cells": [
  {
   "cell_type": "markdown",
   "metadata": {},
   "source": [
    "# Part 03 - Modeling"
   ]
  },
  {
   "cell_type": "markdown",
   "metadata": {},
   "source": [
    "### 01 - Import library"
   ]
  },
  {
   "cell_type": "code",
   "execution_count": 1,
   "metadata": {},
   "outputs": [],
   "source": [
    "import os\n",
    "import numpy as np\n",
    "import pandas as pd\n",
    "import matplotlib.pyplot as plt\n",
    "%matplotlib inline\n",
    "import seaborn as sns\n",
    "\n",
    "import IPython.display as ipd\n",
    "import librosa\n",
    "import librosa.display\n",
    "\n",
    "from sklearn.preprocessing import LabelEncoder\n",
    "from sklearn.model_selection import train_test_split\n",
    "from sklearn.metrics import confusion_matrix\n",
    "\n",
    "import tensorflow as tf\n",
    "from tensorflow.keras.utils import to_categorical\n",
    "from tensorflow.keras.models import Sequential\n",
    "from tensorflow.keras.layers import Dense, Dropout, Convolution2D, Conv2D, MaxPooling2D, GlobalAveragePooling2D, Flatten"
   ]
  },
  {
   "cell_type": "markdown",
   "metadata": {},
   "source": [
    "### 02 - Unpickle the features"
   ]
  },
  {
   "cell_type": "code",
   "execution_count": 13,
   "metadata": {},
   "outputs": [],
   "source": [
    "df_tr = pd.read_pickle('../pickles/train.pkl')\n",
    "df_ts = pd.read_pickle('../pickles/test.pkl')\n",
    "df_ho = pd.read_pickle('../pickles/hold_out.pkl')"
   ]
  },
  {
   "cell_type": "markdown",
   "metadata": {},
   "source": [
    "### 03 - Transform into tensorflow-friendly format"
   ]
  },
  {
   "cell_type": "code",
   "execution_count": 17,
   "metadata": {},
   "outputs": [],
   "source": [
    "# use label encoder to convert the language labels to numeric target column\n",
    "encoder = LabelEncoder()\n",
    "encoder.fit(df['lang'])\n",
    "labels = encoder.classes_\n",
    "y_tr = encoder.transform(df_tr['lang'])\n",
    "y_ts = encoder.transform(df_ts['lang'])\n",
    "y_ho = encoder.transform(df_ho['lang'])"
   ]
  },
  {
   "cell_type": "code",
   "execution_count": 18,
   "metadata": {},
   "outputs": [],
   "source": [
    "# Convert feature matrix into a keras-friendly format\n",
    "X_tr = np.array(df_tr['features'].tolist())\n",
    "X_tr = X_tr.reshape(X_tr.shape[0],128,256,1)\n",
    "X_ts = np.array(df_ts['features'].tolist())\n",
    "X_ts = X_ts.reshape(X_ts.shape[0],128,256,1)\n",
    "X_ho = np.array(df_ho['features'].tolist())\n",
    "X_ho = X_ho.reshape(X_ho.shape[0],128,256,1)"
   ]
  },
  {
   "cell_type": "code",
   "execution_count": 19,
   "metadata": {},
   "outputs": [
    {
     "name": "stdout",
     "output_type": "stream",
     "text": [
      "(5924, 128, 256, 1)\n",
      "(5924,)\n",
      "(740, 128, 256, 1)\n",
      "(740,)\n",
      "(740, 128, 256, 1)\n",
      "(740,)\n"
     ]
    }
   ],
   "source": [
    "# Check the shape\n",
    "print(X_tr.shape)\n",
    "print(y_tr.shape)\n",
    "print(X_ts.shape)\n",
    "print(y_ts.shape)\n",
    "print(X_ho.shape)\n",
    "print(y_ho.shape)"
   ]
  },
  {
   "cell_type": "markdown",
   "metadata": {},
   "source": [
    "### 04 - CNN Model"
   ]
  },
  {
   "cell_type": "code",
   "execution_count": 44,
   "metadata": {},
   "outputs": [],
   "source": [
    "model = Sequential()\n",
    "model.add(Conv2D(16, (5, 5), activation='relu', input_shape=(128, 256, 1), padding = 'same'))\n",
    "model.add(MaxPooling2D((2, 2)))\n",
    "model.add(Conv2D(32, (5, 5), activation='relu', padding = 'same'))\n",
    "model.add(MaxPooling2D((2, 2)))\n",
    "model.add(Flatten())\n",
    "model.add(Dense(128, activation='relu'))\n",
    "model.add(Dense(2, activation='softmax'))"
   ]
  },
  {
   "cell_type": "code",
   "execution_count": 45,
   "metadata": {},
   "outputs": [
    {
     "name": "stdout",
     "output_type": "stream",
     "text": [
      "Model: \"sequential_4\"\n",
      "_________________________________________________________________\n",
      "Layer (type)                 Output Shape              Param #   \n",
      "=================================================================\n",
      "conv2d_9 (Conv2D)            (None, 128, 256, 16)      416       \n",
      "_________________________________________________________________\n",
      "max_pooling2d_6 (MaxPooling2 (None, 64, 128, 16)       0         \n",
      "_________________________________________________________________\n",
      "conv2d_10 (Conv2D)           (None, 64, 128, 32)       12832     \n",
      "_________________________________________________________________\n",
      "max_pooling2d_7 (MaxPooling2 (None, 32, 64, 32)        0         \n",
      "_________________________________________________________________\n",
      "flatten_3 (Flatten)          (None, 65536)             0         \n",
      "_________________________________________________________________\n",
      "dense_6 (Dense)              (None, 128)               8388736   \n",
      "_________________________________________________________________\n",
      "dense_7 (Dense)              (None, 2)                 258       \n",
      "=================================================================\n",
      "Total params: 8,402,242\n",
      "Trainable params: 8,402,242\n",
      "Non-trainable params: 0\n",
      "_________________________________________________________________\n"
     ]
    }
   ],
   "source": [
    "model.summary()"
   ]
  },
  {
   "cell_type": "code",
   "execution_count": 46,
   "metadata": {},
   "outputs": [],
   "source": [
    "model.compile(optimizer='adam',\n",
    "              loss='SparseCategoricalCrossentropy',\n",
    "              metrics=['accuracy'])"
   ]
  },
  {
   "cell_type": "code",
   "execution_count": 47,
   "metadata": {},
   "outputs": [
    {
     "name": "stdout",
     "output_type": "stream",
     "text": [
      "Epoch 1/10\n",
      "186/186 [==============================] - 70s 377ms/step - loss: 10.5426 - accuracy: 0.7292 - val_loss: 0.5311 - val_accuracy: 0.7581\n",
      "Epoch 2/10\n",
      "186/186 [==============================] - 70s 377ms/step - loss: 0.4709 - accuracy: 0.7956 - val_loss: 0.4973 - val_accuracy: 0.7851\n",
      "Epoch 3/10\n",
      "186/186 [==============================] - 70s 377ms/step - loss: 0.4603 - accuracy: 0.7961 - val_loss: 0.4725 - val_accuracy: 0.7959\n",
      "Epoch 4/10\n",
      "186/186 [==============================] - 70s 376ms/step - loss: 0.4438 - accuracy: 0.8032 - val_loss: 0.4935 - val_accuracy: 0.7473\n",
      "Epoch 5/10\n",
      "186/186 [==============================] - 70s 378ms/step - loss: 0.4158 - accuracy: 0.8192 - val_loss: 0.4467 - val_accuracy: 0.8122\n",
      "Epoch 6/10\n",
      "186/186 [==============================] - 70s 377ms/step - loss: 0.4018 - accuracy: 0.8249 - val_loss: 0.4273 - val_accuracy: 0.8149\n",
      "Epoch 7/10\n",
      "186/186 [==============================] - 70s 377ms/step - loss: 0.3664 - accuracy: 0.8346 - val_loss: 0.4188 - val_accuracy: 0.8081\n",
      "Epoch 8/10\n",
      "186/186 [==============================] - 70s 378ms/step - loss: 0.3303 - accuracy: 0.8498 - val_loss: 0.4250 - val_accuracy: 0.8162\n",
      "Epoch 9/10\n",
      "186/186 [==============================] - 70s 377ms/step - loss: 0.2954 - accuracy: 0.8655 - val_loss: 0.4326 - val_accuracy: 0.8149\n",
      "Epoch 10/10\n",
      "186/186 [==============================] - 70s 378ms/step - loss: 0.2957 - accuracy: 0.8717 - val_loss: 0.4311 - val_accuracy: 0.8216\n"
     ]
    }
   ],
   "source": [
    "history = model.fit(X_tr, y_tr, epochs=10, validation_data=(X_ts, y_ts))"
   ]
  },
  {
   "cell_type": "code",
   "execution_count": 48,
   "metadata": {},
   "outputs": [
    {
     "name": "stdout",
     "output_type": "stream",
     "text": [
      "24/24 [==============================] - 2s 86ms/step - loss: 0.3879 - accuracy: 0.8284\n"
     ]
    }
   ],
   "source": [
    "val_loss, val_acc = model.evaluate(X_ho, y_ho, verbose=1)"
   ]
  },
  {
   "cell_type": "code",
   "execution_count": 49,
   "metadata": {},
   "outputs": [
    {
     "name": "stdout",
     "output_type": "stream",
     "text": [
      "WARNING:tensorflow:From /home/ec2-user/anaconda3/lib/python3.7/site-packages/tensorflow/python/ops/resource_variable_ops.py:1817: calling BaseResourceVariable.__init__ (from tensorflow.python.ops.resource_variable_ops) with constraint is deprecated and will be removed in a future version.\n",
      "Instructions for updating:\n",
      "If using Keras pass *_constraint arguments to layers.\n",
      "INFO:tensorflow:Assets written to: ../saved_model/20200603/assets\n"
     ]
    }
   ],
   "source": [
    "model.save('../saved_model/20200603')"
   ]
  }
 ],
 "metadata": {
  "kernelspec": {
   "display_name": "Python 3",
   "language": "python",
   "name": "python3"
  },
  "language_info": {
   "codemirror_mode": {
    "name": "ipython",
    "version": 3
   },
   "file_extension": ".py",
   "mimetype": "text/x-python",
   "name": "python",
   "nbconvert_exporter": "python",
   "pygments_lexer": "ipython3",
   "version": "3.7.6"
  }
 },
 "nbformat": 4,
 "nbformat_minor": 4
}
